{
 "cells": [
  {
   "cell_type": "markdown",
   "metadata": {},
   "source": [
    "<a href=\"https://colab.research.google.com/github/jeffheaton/t81_558_deep_learning/blob/master/t81_558_class_11_03_embedding.ipynb\" target=\"_parent\"><img src=\"https://colab.research.google.com/assets/colab-badge.svg\" alt=\"Open In Colab\"/></a>\n"
   ]
  },
  {
   "cell_type": "markdown",
   "metadata": {},
   "source": [
    "# T81-558: Applications of Deep Neural Networks\n",
    "**Module 11: Natural Language Processing and Speech Recognition**\n",
    "* Instructor: [Jeff Heaton](https://sites.wustl.edu/jeffheaton/), McKelvey School of Engineering, [Washington University in St. Louis](https://engineering.wustl.edu/Programs/Pages/default.aspx)\n",
    "* For more information visit the [class website](https://sites.wustl.edu/jeffheaton/t81-558/)."
   ]
  },
  {
   "cell_type": "markdown",
   "metadata": {},
   "source": [
    "# Module 11 Material\n",
    "\n",
    "* Part 11.1: Getting Started with Spacy in Python [[Video]](https://www.youtube.com/watch?v=A5BtU9vXzu8&list=PLjy4p-07OYzulelvJ5KVaT2pDlxivl_BN) [[Notebook]](t81_558_class_11_01_spacy.ipynb)\n",
    "* Part 11.2: Word2Vec and Text Classification [[Video]](https://www.youtube.com/watch?v=nWxtRlpObIs&list=PLjy4p-07OYzulelvJ5KVaT2pDlxivl_BN) [[Notebook]](t81_558_class_11_02_word2vec.ipynb)\n",
    "* **Part 11.3: What are Embedding Layers in Keras** [[Video]](https://www.youtube.com/watch?v=OuNH5kT-aD0&list=PLjy4p-07OYzulelvJ5KVaT2pDlxivl_BN) [[Notebook]](t81_558_class_11_03_embedding.ipynb)\n",
    "* Part 11.4: Natural Language Processing with Spacy and Keras [[Video]](https://www.youtube.com/watch?v=BKgwjhao5DU&list=PLjy4p-07OYzulelvJ5KVaT2pDlxivl_BN) [[Notebook]](t81_558_class_11_04_text_nlp.ipynb)\n",
    "* Part 11.5: Learning English from Scratch with Keras and TensorFlow [[Video]](https://www.youtube.com/watch?v=Y1khuuSjZzc&list=PLjy4p-07OYzulelvJ5KVaT2pDlxivl_BN&index=58) [[Notebook]](t81_558_class_11_05_english_scratch.ipynb)"
   ]
  },
  {
   "cell_type": "markdown",
   "metadata": {},
   "source": [
    "# Google CoLab Instructions\n",
    "\n",
    "The following code ensures that Google CoLab is running the correct version of TensorFlow."
   ]
  },
  {
   "cell_type": "code",
   "execution_count": 1,
   "metadata": {},
   "outputs": [
    {
     "name": "stdout",
     "output_type": "stream",
     "text": [
      "Note: not using Google CoLab\n"
     ]
    }
   ],
   "source": [
    "try:\n",
    "    %tensorflow_version 2.x\n",
    "    COLAB = True\n",
    "    print(\"Note: using Google CoLab\")\n",
    "except:\n",
    "    print(\"Note: not using Google CoLab\")\n",
    "    COLAB = False"
   ]
  },
  {
   "cell_type": "markdown",
   "metadata": {},
   "source": [
    "# Part 11.3: What are Embedding Layers in Keras\n",
    "\n",
    "[Embedding Layers](https://keras.io/layers/embeddings/) are a powerful feature of Keras that allow additional information to be automatically inserted into your neural network.  In the previous section you saw that Word2Vec can expand words to a 300 dimension vector.  An embedding layer would allow you to automatically insert these 300-dimension vectors in the place of word-indexes.  \n",
    "\n",
    "Embedding layers are often used with Natural Language Processing (NLP); however, they can be used in any instance where you wish to insert a larger vector in the place of an index value.  In some ways you can think of an embedding layer as dimension expansion. However, the hope is that these additional dimensions will provide more information to the model and provide a better score."
   ]
  },
  {
   "cell_type": "markdown",
   "metadata": {},
   "source": [
    "### Simple Embedding Layer Example\n",
    "\n",
    "* **input_dim** = How large is the vocabulary?  How many categories are you encoding. This is the number of items in your \"lookup table\".\n",
    "* **output_dim** = How many numbers in the vector that you wish to return. \n",
    "* **input_length** = How many items are in the input feature vector that you need to transform?\n",
    "\n",
    "Now we create one that has a vocabulary size of 10, will reduce those values between 0-9 to 4 number vectors.  Each feature vector coming in will have 2 such features.  This neural network does nothing more than pass the embedding on to the output.  But it does let us see what the embedding is doing."
   ]
  },
  {
   "cell_type": "code",
   "execution_count": 2,
   "metadata": {},
   "outputs": [],
   "source": [
    "from tensorflow.keras.models import Sequential\n",
    "from tensorflow.keras.layers import Embedding\n",
    "import numpy as np\n",
    "\n",
    "model = Sequential()\n",
    "embedding_layer = Embedding(input_dim=10, output_dim=4, input_length=2)\n",
    "model.add(embedding_layer)\n",
    "model.compile('adam', 'mse')"
   ]
  },
  {
   "cell_type": "markdown",
   "metadata": {},
   "source": [
    "Now lets query the neural network with 2 rows."
   ]
  },
  {
   "cell_type": "code",
   "execution_count": 3,
   "metadata": {},
   "outputs": [
    {
     "name": "stdout",
     "output_type": "stream",
     "text": [
      "(1, 2)\n",
      "[[[ 0.00045583  0.01162986  0.02153066  0.02177006]\n",
      "  [ 0.02861592  0.04424032  0.04959855 -0.03211843]]]\n"
     ]
    }
   ],
   "source": [
    "input_data = np.array([\n",
    "    [1,2]\n",
    "])\n",
    "\n",
    "pred = model.predict(input_data)\n",
    "\n",
    "print(input_data.shape)\n",
    "print(pred)"
   ]
  },
  {
   "cell_type": "code",
   "execution_count": 4,
   "metadata": {},
   "outputs": [
    {
     "data": {
      "text/plain": [
       "[array([[-0.0221102 ,  0.00226649,  0.00254037,  0.01190782],\n",
       "        [ 0.00045583,  0.01162986,  0.02153066,  0.02177006],\n",
       "        [ 0.02861592,  0.04424032,  0.04959855, -0.03211843],\n",
       "        [ 0.04582461, -0.02545898, -0.00016803,  0.00339152],\n",
       "        [ 0.03918555, -0.04752984,  0.03711915,  0.01762971],\n",
       "        [-0.04822759,  0.03276691, -0.04626492, -0.01514248],\n",
       "        [-0.00224036, -0.04663466,  0.00142751, -0.00048913],\n",
       "        [-0.02796851, -0.04063223, -0.04552562,  0.03242474],\n",
       "        [-0.00985355,  0.03479313, -0.00529178,  0.02721054],\n",
       "        [-0.02948785, -0.01151751, -0.03079265,  0.00206535]],\n",
       "       dtype=float32)]"
      ]
     },
     "execution_count": 4,
     "metadata": {},
     "output_type": "execute_result"
    }
   ],
   "source": [
    "embedding_layer.get_weights()"
   ]
  },
  {
   "cell_type": "markdown",
   "metadata": {},
   "source": [
    "### Transferring An Embedding"
   ]
  },
  {
   "cell_type": "code",
   "execution_count": 5,
   "metadata": {},
   "outputs": [],
   "source": [
    "from tensorflow.keras.models import Sequential\n",
    "from tensorflow.keras.layers import Embedding\n",
    "import numpy as np\n",
    "\n",
    "embedding_lookup = np.array([\n",
    "    [1,0,0],\n",
    "    [0,1,0],\n",
    "    [0,0,1]\n",
    "])\n",
    "\n",
    "model = Sequential()\n",
    "embedding_layer = Embedding(input_dim=3, output_dim=3, input_length=2)\n",
    "model.add(embedding_layer)\n",
    "model.compile('adam', 'mse')\n",
    "\n",
    "embedding_layer.set_weights([embedding_lookup])"
   ]
  },
  {
   "cell_type": "code",
   "execution_count": 6,
   "metadata": {},
   "outputs": [
    {
     "name": "stdout",
     "output_type": "stream",
     "text": [
      "(1, 2)\n",
      "[[[1. 0. 0.]\n",
      "  [0. 1. 0.]]]\n"
     ]
    }
   ],
   "source": [
    "input_data = np.array([\n",
    "    [0,1]\n",
    "])\n",
    "\n",
    "pred = model.predict(input_data)\n",
    "\n",
    "print(input_data.shape)\n",
    "print(pred)"
   ]
  },
  {
   "cell_type": "markdown",
   "metadata": {},
   "source": [
    "### Training an Embedding"
   ]
  },
  {
   "cell_type": "code",
   "execution_count": 7,
   "metadata": {},
   "outputs": [],
   "source": [
    "from numpy import array\n",
    "from tensorflow.keras.preprocessing.text import one_hot\n",
    "from tensorflow.keras.preprocessing.sequence import pad_sequences\n",
    "from tensorflow.keras.models import Sequential\n",
    "from tensorflow.keras.layers import Flatten, Embedding, Dense"
   ]
  },
  {
   "cell_type": "code",
   "execution_count": 8,
   "metadata": {},
   "outputs": [],
   "source": [
    "# Define 10 resturant reviews.\n",
    "reviews = [\n",
    "    'Never coming back!',\n",
    "    'Horrible service',\n",
    "    'Rude waitress',\n",
    "    'Cold food.',\n",
    "    'Horrible food!',\n",
    "    'Awesome',\n",
    "    'Awesome service!',\n",
    "    'Rocks!',\n",
    "    'poor work',\n",
    "    'Couldn\\'t have done better']\n",
    "\n",
    "# Define labels (1=negative, 0=positive)\n",
    "labels = array([1,1,1,1,1,0,0,0,0,0])"
   ]
  },
  {
   "cell_type": "code",
   "execution_count": null,
   "metadata": {},
   "outputs": [],
   "source": []
  },
  {
   "cell_type": "code",
   "execution_count": 9,
   "metadata": {},
   "outputs": [
    {
     "name": "stdout",
     "output_type": "stream",
     "text": [
      "Encoded reviews: [[36, 20, 16], [36, 30], [21, 32], [28, 44], [36, 44], [30], [30, 30], [33], [29, 32], [21, 9, 17, 14]]\n"
     ]
    }
   ],
   "source": [
    "VOCAB_SIZE = 50\n",
    "encoded_reviews = [one_hot(d, VOCAB_SIZE) for d in reviews]\n",
    "print(f\"Encoded reviews: {encoded_reviews}\")"
   ]
  },
  {
   "cell_type": "code",
   "execution_count": 10,
   "metadata": {},
   "outputs": [
    {
     "name": "stdout",
     "output_type": "stream",
     "text": [
      "[[36 20 16  0]\n",
      " [36 30  0  0]\n",
      " [21 32  0  0]\n",
      " [28 44  0  0]\n",
      " [36 44  0  0]\n",
      " [30  0  0  0]\n",
      " [30 30  0  0]\n",
      " [33  0  0  0]\n",
      " [29 32  0  0]\n",
      " [21  9 17 14]]\n"
     ]
    }
   ],
   "source": [
    "MAX_LENGTH = 4\n",
    "\n",
    "padded_reviews = pad_sequences(encoded_reviews, maxlen=MAX_LENGTH, padding='post')\n",
    "print(padded_reviews)"
   ]
  },
  {
   "cell_type": "code",
   "execution_count": 11,
   "metadata": {},
   "outputs": [
    {
     "name": "stdout",
     "output_type": "stream",
     "text": [
      "Model: \"sequential_2\"\n",
      "_________________________________________________________________\n",
      "Layer (type)                 Output Shape              Param #   \n",
      "=================================================================\n",
      "embedding_2 (Embedding)      (None, 4, 8)              400       \n",
      "_________________________________________________________________\n",
      "flatten (Flatten)            (None, 32)                0         \n",
      "_________________________________________________________________\n",
      "dense (Dense)                (None, 1)                 33        \n",
      "=================================================================\n",
      "Total params: 433\n",
      "Trainable params: 433\n",
      "Non-trainable params: 0\n",
      "_________________________________________________________________\n",
      "None\n"
     ]
    }
   ],
   "source": [
    "model = Sequential()\n",
    "embedding_layer = Embedding(VOCAB_SIZE, 8, input_length=MAX_LENGTH)\n",
    "model.add(embedding_layer)\n",
    "model.add(Flatten())\n",
    "model.add(Dense(1, activation='sigmoid'))\n",
    "model.compile(optimizer='adam', loss='binary_crossentropy', metrics=['acc'])\n",
    "\n",
    "print(model.summary())"
   ]
  },
  {
   "cell_type": "code",
   "execution_count": 12,
   "metadata": {},
   "outputs": [
    {
     "data": {
      "text/plain": [
       "<tensorflow.python.keras.callbacks.History at 0x1f6e8fbc708>"
      ]
     },
     "execution_count": 12,
     "metadata": {},
     "output_type": "execute_result"
    }
   ],
   "source": [
    "# fit the model\n",
    "model.fit(padded_reviews, labels, epochs=100, verbose=0)"
   ]
  },
  {
   "cell_type": "code",
   "execution_count": 13,
   "metadata": {},
   "outputs": [
    {
     "name": "stdout",
     "output_type": "stream",
     "text": [
      "(50, 8)\n",
      "[array([[-0.14637835, -0.12984304, -0.15111117, -0.09053998,  0.13021879,\n",
      "        -0.10539554, -0.05147085,  0.06912396],\n",
      "       [-0.00579739, -0.00986332,  0.01467195, -0.03045411, -0.02429543,\n",
      "        -0.03285533, -0.02688962, -0.02814187],\n",
      "       [ 0.04165565,  0.04553476, -0.0354664 ,  0.00858508,  0.04029242,\n",
      "        -0.02380581,  0.01589577,  0.03992004],\n",
      "       [-0.039357  ,  0.01706238,  0.0153041 , -0.00511563, -0.04465302,\n",
      "         0.0357861 ,  0.01565594, -0.03416499],\n",
      "       [ 0.01038007, -0.04379574,  0.0257929 ,  0.01036216,  0.01499831,\n",
      "        -0.01560997, -0.00298757, -0.02088328],\n",
      "       [ 0.00280363,  0.03223765, -0.04833974,  0.02341447, -0.00116297,\n",
      "         0.01185446, -0.03544631,  0.03683075],\n",
      "       [ 0.02292693, -0.02337421, -0.04099866,  0.04001469,  0.04011053,\n",
      "        -0.03651067,  0.01003332,  0.02863183],\n",
      "       [ 0.03145957, -0.0270771 ,  0.04718636,  0.04080942,  0.00179552,\n",
      "        -0.04767065,  0.01851675, -0.02540805],\n",
      "       [ 0.04629861, -0.01599177, -0.00206462,  0.03740877,  0.04373071,\n",
      "         0.02750481, -0.04190851, -0.00551685],\n",
      "       [-0.0974037 , -0.15096122, -0.09696943, -0.10742263,  0.14479537,\n",
      "        -0.0627797 , -0.15427533,  0.13463584],\n",
      "       [-0.00046328, -0.02735403, -0.03493289, -0.04250716,  0.00135064,\n",
      "        -0.0449197 ,  0.02664405, -0.0037064 ],\n",
      "       [-0.02067516,  0.02026138, -0.04468171,  0.04024613, -0.04511467,\n",
      "         0.0359912 , -0.00486144,  0.03273374],\n",
      "       [ 0.01602447, -0.00227193,  0.0018848 , -0.01634024, -0.04742908,\n",
      "         0.03660164, -0.02914745,  0.03844062],\n",
      "       [ 0.0450494 , -0.00844468, -0.04990001,  0.04478976,  0.01581544,\n",
      "        -0.04310047, -0.00978739, -0.03715724],\n",
      "       [ 0.1248125 , -0.10016317,  0.02761354, -0.12947628, -0.13867077,\n",
      "         0.12221818, -0.12521935,  0.06810373],\n",
      "       [-0.02211782,  0.0078998 , -0.01536794,  0.01188798, -0.01709585,\n",
      "         0.03129115, -0.01962475, -0.0032054 ],\n",
      "       [-0.124412  ,  0.12442291,  0.07406706,  0.07742584,  0.14627635,\n",
      "        -0.04452002, -0.15010324,  0.069816  ],\n",
      "       [ 0.11967834, -0.13300131, -0.07004767, -0.12761891, -0.12338328,\n",
      "         0.07490553,  0.05870916, -0.10184048],\n",
      "       [ 0.04977128, -0.04912947, -0.02931671,  0.02408936, -0.03929476,\n",
      "        -0.02004888,  0.02250769, -0.01687249],\n",
      "       [-0.02928039,  0.03584397, -0.00948113, -0.02523493, -0.01267532,\n",
      "        -0.0256218 ,  0.02983396,  0.00773748],\n",
      "       [ 0.11188963,  0.09135809,  0.11389177,  0.13789186, -0.10576965,\n",
      "         0.12069625,  0.12969828, -0.0806186 ],\n",
      "       [-0.12270059, -0.11804148,  0.11601865,  0.12489754,  0.16852151,\n",
      "         0.08690894,  0.1309536 ,  0.13061257],\n",
      "       [-0.0014353 , -0.02984184, -0.03702049,  0.03966384, -0.03355592,\n",
      "        -0.03422681,  0.00416795,  0.02636122],\n",
      "       [ 0.01752876, -0.03874839,  0.02516278,  0.00254524,  0.04835147,\n",
      "         0.00247405,  0.01907598,  0.02028279],\n",
      "       [-0.03462516,  0.04486798, -0.00314714,  0.02957587, -0.04787222,\n",
      "        -0.01266993,  0.01817125,  0.04807258],\n",
      "       [ 0.0425046 ,  0.01657928, -0.03621185, -0.00770139,  0.02197483,\n",
      "         0.03580911,  0.03198259,  0.02334866],\n",
      "       [-0.01051121,  0.00541145, -0.01301711, -0.02842369, -0.02553248,\n",
      "         0.02924911,  0.00278942,  0.04848167],\n",
      "       [-0.02888026, -0.03475703,  0.03768171, -0.0100891 ,  0.03349392,\n",
      "        -0.02834792,  0.03115762,  0.04294844],\n",
      "       [-0.10287911, -0.15594018,  0.14724578,  0.1440157 ,  0.14331163,\n",
      "         0.1251765 ,  0.13869971,  0.12738405],\n",
      "       [ 0.100647  ,  0.08031193, -0.09515803, -0.15864043, -0.09372874,\n",
      "        -0.150187  , -0.14205442, -0.0753118 ],\n",
      "       [ 0.09969884,  0.1570497 , -0.11210834, -0.07926075, -0.14299957,\n",
      "        -0.07094868, -0.10769984, -0.10559384],\n",
      "       [ 0.03365923, -0.02989253,  0.00163991, -0.02833401,  0.01306362,\n",
      "         0.00987154, -0.00811816,  0.02829209],\n",
      "       [ 0.00409029,  0.02206913, -0.0505509 , -0.02246694, -0.02509207,\n",
      "        -0.0005924 ,  0.01432283, -0.02261978],\n",
      "       [ 0.11551496,  0.16165832, -0.09225328, -0.07189872, -0.13081379,\n",
      "        -0.1156066 , -0.12762393, -0.09972169],\n",
      "       [-0.02683282,  0.02163743,  0.03916078, -0.03924117,  0.0175509 ,\n",
      "        -0.03733768,  0.00397806, -0.01807342],\n",
      "       [-0.03579725, -0.03313033, -0.0270142 , -0.02434152,  0.03028331,\n",
      "        -0.01281723, -0.04835559,  0.04480716],\n",
      "       [-0.131183  , -0.12285312,  0.152691  ,  0.09403092,  0.11157136,\n",
      "         0.13734275,  0.08167294,  0.09933168],\n",
      "       [ 0.04564028, -0.02235619, -0.03321476,  0.02547293,  0.03860209,\n",
      "        -0.02869705,  0.035684  ,  0.04145743],\n",
      "       [ 0.00793405,  0.00739894, -0.03113814,  0.03325186,  0.04662896,\n",
      "         0.01472681, -0.01933564,  0.01013763],\n",
      "       [ 0.03698875,  0.02880574,  0.01755236,  0.03448388, -0.0044453 ,\n",
      "        -0.03842958, -0.04200357, -0.02033453],\n",
      "       [-0.02960879,  0.03873557,  0.02049175,  0.03667071, -0.0081966 ,\n",
      "         0.01372058,  0.02340839, -0.04490868],\n",
      "       [ 0.03064013,  0.03863272,  0.04522924,  0.04414332,  0.02581581,\n",
      "        -0.04999259,  0.04917318,  0.0365514 ],\n",
      "       [ 0.0011614 , -0.02894665,  0.01573154, -0.00426248, -0.0079842 ,\n",
      "         0.02107726,  0.00705776, -0.0344329 ],\n",
      "       [-0.0258242 ,  0.02658546,  0.02539034,  0.04219178,  0.00946537,\n",
      "        -0.01944597,  0.01367206,  0.01414234],\n",
      "       [ 0.09134303,  0.08701987,  0.13864356,  0.1242004 , -0.07803262,\n",
      "         0.12914069,  0.08231508, -0.07478911],\n",
      "       [ 0.00562065, -0.02806178, -0.02422127, -0.04815035,  0.02897414,\n",
      "        -0.04162613, -0.02363124, -0.01222475],\n",
      "       [-0.00970662, -0.00418586,  0.02889099, -0.0070479 ,  0.04790736,\n",
      "         0.03939294,  0.04469894, -0.02503799],\n",
      "       [-0.00688819, -0.00655161, -0.02010795, -0.02845968,  0.04299973,\n",
      "        -0.03666538, -0.04548815, -0.01927114],\n",
      "       [ 0.04120431,  0.03291703, -0.01035678,  0.03640393,  0.03836112,\n",
      "         0.02557591, -0.03493341, -0.03315447],\n",
      "       [ 0.02506235,  0.02273614, -0.02264934,  0.02344206,  0.00183827,\n",
      "        -0.02090015,  0.00934662,  0.01652372]], dtype=float32)]\n"
     ]
    }
   ],
   "source": [
    "print(embedding_layer.get_weights()[0].shape)\n",
    "print(embedding_layer.get_weights())"
   ]
  },
  {
   "cell_type": "code",
   "execution_count": 14,
   "metadata": {},
   "outputs": [
    {
     "name": "stdout",
     "output_type": "stream",
     "text": [
      "Accuracy: 1.0\n"
     ]
    }
   ],
   "source": [
    "loss, accuracy = model.evaluate(padded_reviews, labels, verbose=0)\n",
    "print(f'Accuracy: {accuracy}')"
   ]
  },
  {
   "cell_type": "code",
   "execution_count": null,
   "metadata": {},
   "outputs": [],
   "source": []
  }
 ],
 "metadata": {
  "anaconda-cloud": {},
  "kernelspec": {
   "display_name": "Python 3.7 (tensorflow)",
   "language": "python",
   "name": "tensorflow"
  },
  "language_info": {
   "codemirror_mode": {
    "name": "ipython",
    "version": 3
   },
   "file_extension": ".py",
   "mimetype": "text/x-python",
   "name": "python",
   "nbconvert_exporter": "python",
   "pygments_lexer": "ipython3",
   "version": "3.7.5"
  }
 },
 "nbformat": 4,
 "nbformat_minor": 4
}
