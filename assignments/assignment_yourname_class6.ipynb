{
 "cells": [
  {
   "cell_type": "markdown",
   "metadata": {},
   "source": [
    "<a href=\"https://colab.research.google.com/github/jeffheaton/t81_558_deep_learning/blob/master/assignments/assignment_yourname_class6.ipynb\" target=\"_parent\"><img src=\"https://colab.research.google.com/assets/colab-badge.svg\" alt=\"Open In Colab\"/></a>"
   ]
  },
  {
   "cell_type": "markdown",
   "metadata": {},
   "source": [
    "# T81-558: Applications of Deep Neural Networks\n",
    "* Instructor: [Jeff Heaton](https://sites.wustl.edu/jeffheaton/), School of Engineering and Applied Science, [Washington University in St. Louis](https://engineering.wustl.edu/Programs/Pages/default.aspx)\n",
    "* For more information visit the [class website](https://sites.wustl.edu/jeffheaton/t81-558/).\n",
    "\n",
    "**Module 6 Assignment: Image Processing**\n",
    "\n",
    "**Student Name: Your Name**"
   ]
  },
  {
   "cell_type": "markdown",
   "metadata": {},
   "source": [
    "# Assignment Instructions\n",
    "\n",
    "For this assignment you will use two images: \n",
    "\n",
    "* [Dog House](https://github.com/jeffheaton/t81_558_deep_learning/raw/master/photos/hickory_home.jpg)\n",
    "* [Land Scape](https://github.com/jeffheaton/t81_558_deep_learning/raw/master/photos/landscape.jpg)\n",
    "\n",
    "\n",
    "Your code should work with any image; however, these are the two that the **submit** function is expecting.  The goal is to convert both images into square-sized.  In this module, we saw how to transform into a square by cropping.  This time we will switch to a square by adding space.  If an image is [landscape orientation](https://en.wikipedia.org/wiki/Page_orientation) you will need to add space at the top and bottom.  Similarly, for portrait (taller than wide), you will add space at the sides.  Make sure that your program centers the image between the space. \n",
    "\n",
    "The following diagram illustrates this.\n",
    "\n",
    "![Image Processing Instructions](https://raw.githubusercontent.com/jeffheaton/t81_558_deep_learning/master/images/image-instructions.png \"Image Processing Instructions\")\n",
    "\n",
    "To calculate the color to add to the new space, take the average of all RGB values.  Essentially sum all the red values, green, and blue and divide by the total number of pixels.  Notice how the darker landscape picture above has a darker color added to the above/below space?  This effect is due to this averaging.  Make sure you convert your average RGB to an integer, RGB does not have fractional values.\n",
    "\n",
    "The submit function will check to see if your height and width match my solution.  Your height and width should be square and match my dimensions.  If this is not the case, you likely have a problem with your assignment.  \n",
    "\n",
    "The submit function also takes three pixels and tests them.  Pixels 1 and 3 are the upper left and lower-right; these are the average color and should match my solution exactly. You might see a difference in pixel 2, which is in the center if you center the image differently than I do.  If you want to match my solution, make sure to round to integer after any divisions. \n"
   ]
  },
  {
   "cell_type": "markdown",
   "metadata": {},
   "source": [
    "# Google CoLab Instructions\n",
    "\n",
    "If you are using Google CoLab, it will be necessary to mount your GDrive so that you can send your notebook during the submit process. Running the following code will map your GDrive to ```/content/drive```."
   ]
  },
  {
   "cell_type": "code",
   "execution_count": null,
   "metadata": {},
   "outputs": [],
   "source": [
    "try:\n",
    "    from google.colab import drive\n",
    "    drive.mount('/content/drive', force_remount=True)\n",
    "    COLAB = True\n",
    "    print(\"Note: using Google CoLab\")\n",
    "    %tensorflow_version 2.x\n",
    "except:\n",
    "    print(\"Note: not using Google CoLab\")\n",
    "    COLAB = False"
   ]
  },
  {
   "cell_type": "markdown",
   "metadata": {},
   "source": [
    "# Assignment Submit Function\n",
    "\n",
    "You will submit the ten programming assignments electronically.  The following **submit** function can be used to do this.  My server will perform a basic check of each assignment and let you know if it sees any underlying problems. \n",
    "\n",
    "**It is unlikely that should need to modify this function.**"
   ]
  },
  {
   "cell_type": "code",
   "execution_count": null,
   "metadata": {},
   "outputs": [],
   "source": [
    "import base64\n",
    "import os\n",
    "import numpy as np\n",
    "import pandas as pd\n",
    "import requests\n",
    "\n",
    "# This function submits an assignment.  You can submit an assignment as much as you like, only the final\n",
    "# submission counts.  The paramaters are as follows:\n",
    "# data - Pandas dataframe output.\n",
    "# key - Your student key that was emailed to you.\n",
    "# no - The assignment class number, should be 1 through 1.\n",
    "# source_file - The full path to your Python or IPYNB file.  This must have \"_class1\" as part of its name.  \n",
    "# .             The number must match your assignment number.  For example \"_class2\" for class assignment #2.\n",
    "def submit(data,key,no,source_file=None):\n",
    "    if source_file is None and '__file__' not in globals(): raise Exception('Must specify a filename when a Jupyter notebook.')\n",
    "    if source_file is None: source_file = __file__\n",
    "    suffix = '_class{}'.format(no)\n",
    "    if suffix not in source_file: raise Exception('{} must be part of the filename.'.format(suffix))\n",
    "    with open(source_file, \"rb\") as image_file:\n",
    "        encoded_python = base64.b64encode(image_file.read()).decode('ascii')\n",
    "    ext = os.path.splitext(source_file)[-1].lower()\n",
    "    if ext not in ['.ipynb','.py']: raise Exception(\"Source file is {} must be .py or .ipynb\".format(ext))\n",
    "    r = requests.post(\"https://api.heatonresearch.com/assignment-submit\",\n",
    "        headers={'x-api-key':key}, json={'csv':base64.b64encode(data.to_csv(index=False).encode('ascii')).decode(\"ascii\"),\n",
    "        'assignment': no, 'ext':ext, 'py':encoded_python})\n",
    "    if r.status_code == 200:\n",
    "        print(\"Success: {}\".format(r.text))\n",
    "    else: print(\"Failure: {}\".format(r.text))\n",
    "        \n",
    "\n",
    "# These functions are provided to build a submission dataframe from the two images that you must\n",
    "# generate for this assignment.  It is unlikely that you would need to modify these.\n",
    "def scan_pixel(d,img_array,img_num,pix_num,x,y):\n",
    "    d[f'img{img_num}-p{pix_num}-rgb0'] = [img_array[y,x,0]]\n",
    "    d[f'img{img_num}-p{pix_num}-rgb1'] = [img_array[y,x,1]]\n",
    "    d[f'img{img_num}-p{pix_num}-rgb2'] = [img_array[y,x,2]]\n",
    "\n",
    "def scan_image(d,img_num,img):\n",
    "    img_array = np.asarray(img)\n",
    "    rows = img_array.shape[0]\n",
    "    cols = img_array.shape[1]\n",
    "    d[f'img{img_num}-height'] = [rows]\n",
    "    d[f'img{img_num}-width'] = [cols]\n",
    "    scan_pixel(d,img_array,img_num,0,0,0)\n",
    "    scan_pixel(d,img_array,img_num,1,int(cols/2),int(rows/2))\n",
    "    scan_pixel(d,img_array,img_num,2,cols-1,rows-1)\n",
    "\n",
    "def build_submit(submit_img1, submit_img2):\n",
    "    d = {}\n",
    "    scan_image(d,1,submit_img1)\n",
    "    scan_image(d,2,submit_img2)\n",
    "    return pd.DataFrame(d)"
   ]
  },
  {
   "cell_type": "markdown",
   "metadata": {
    "collapsed": true
   },
   "source": [
    "# Assignment #6 Sample Code\n",
    "\n",
    "The following code provides a starting point for this assignment."
   ]
  },
  {
   "cell_type": "code",
   "execution_count": null,
   "metadata": {
    "scrolled": true
   },
   "outputs": [],
   "source": [
    "%matplotlib inline\n",
    "\n",
    "import os\n",
    "import pandas as pd\n",
    "import io\n",
    "import requests\n",
    "import numpy as np\n",
    "from scipy.stats import zscore\n",
    "from PIL import Image, ImageFile\n",
    "from matplotlib.pyplot import imshow\n",
    "import requests\n",
    "from io import BytesIO\n",
    "import numpy as np\n",
    "\n",
    "# This is your student key that I emailed to you at the beginnning of the semester.\n",
    "key = \"PPboscDL2M94HCbkbvfOLakXXNy3dh5x2VV1Mlpm\"  # This is an example key and will not work.\n",
    "\n",
    "# You must also identify your source file.  (modify for your local setup)\n",
    "# file='/content/drive/My Drive/Colab Notebooks/assignment_yourname_class6.ipynb'  # Google CoLab\n",
    "# file='C:\\\\Users\\\\jeffh\\\\projects\\\\t81_558_deep_learning\\\\assignments\\\\assignment_yourname_class6.ipynb'  # Windows\n",
    "file='/Users/jheaton/projects/t81_558_deep_learning/assignments/assignment_yourname_class6.ipynb'  # Mac/Linux\n",
    "\n",
    "def fill_square_image(img):\n",
    "    # ************* Add your solution here*********\n",
    "    # You should not need to modify the other code.  \n",
    "    # The return statement should be replaced with your own.\n",
    "    return img \n",
    "\n",
    "# Handle first image\n",
    "url = \"https://github.com/jeffheaton/t81_558_deep_learning/raw/master/photos/hickory_home.jpg\"\n",
    "\n",
    "response = requests.get(url)\n",
    "img = Image.open(BytesIO(response.content))\n",
    "img.load()\n",
    "submit_img1 = fill_square_image(img)\n",
    "display(submit_img1)\n",
    "\n",
    "# Handle second image\n",
    "url = \"https://github.com/jeffheaton/t81_558_deep_learning/raw/master/photos/landscape.jpg\"\n",
    "\n",
    "response = requests.get(url)\n",
    "img = Image.open(BytesIO(response.content))\n",
    "img.load()\n",
    "submit_img2 = fill_square_image(img)\n",
    "display(submit_img2)\n"
   ]
  },
  {
   "cell_type": "code",
   "execution_count": null,
   "metadata": {},
   "outputs": [],
   "source": [
    "# Submit\n",
    "submit_df = build_submit(submit_img1, submit_img2)\n",
    "submit(source_file=file,data=submit_df,key=key,no=6)"
   ]
  }
 ],
 "metadata": {
  "anaconda-cloud": {},
  "kernelspec": {
   "display_name": "Python 3.6 (tensorflow)",
   "language": "python",
   "name": "rga"
  },
  "language_info": {
   "codemirror_mode": {
    "name": "ipython",
    "version": 3
   },
   "file_extension": ".py",
   "mimetype": "text/x-python",
   "name": "python",
   "nbconvert_exporter": "python",
   "pygments_lexer": "ipython3",
   "version": "3.7.5"
  }
 },
 "nbformat": 4,
 "nbformat_minor": 1
}
