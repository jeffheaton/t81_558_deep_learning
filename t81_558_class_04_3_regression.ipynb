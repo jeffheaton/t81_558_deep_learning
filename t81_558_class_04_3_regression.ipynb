{
 "cells": [
  {
   "cell_type": "markdown",
   "metadata": {},
   "source": [
    "<a href=\"https://colab.research.google.com/github/jeffheaton/t81_558_deep_learning/blob/master/t81_558_class_04_3_regression.ipynb\" target=\"_parent\"><img src=\"https://colab.research.google.com/assets/colab-badge.svg\" alt=\"Open In Colab\"/></a>"
   ]
  },
  {
   "cell_type": "markdown",
   "metadata": {},
   "source": [
    "# T81-558: Applications of Deep Neural Networks\n",
    "**Module 4: Training for Tabular Data**\n",
    "* Instructor: [Jeff Heaton](https://sites.wustl.edu/jeffheaton/), McKelvey School of Engineering, [Washington University in St. Louis](https://engineering.wustl.edu/Programs/Pages/default.aspx)\n",
    "* For more information visit the [class website](https://sites.wustl.edu/jeffheaton/t81-558/)."
   ]
  },
  {
   "cell_type": "markdown",
   "metadata": {},
   "source": [
    "# Module 4 Material\n",
    "\n",
    "* Part 4.1: Encoding a Feature Vector for Keras Deep Learning [[Video]](https://www.youtube.com/watch?v=Vxz-gfs9nMQ&list=PLjy4p-07OYzulelvJ5KVaT2pDlxivl_BN) [[Notebook]](t81_558_class_04_1_feature_encode.ipynb)\n",
    "* Part 4.2: Keras Multiclass Classification for Deep Neural Networks with ROC and AUC [[Video]](https://www.youtube.com/watch?v=-f3bg9dLMks&list=PLjy4p-07OYzulelvJ5KVaT2pDlxivl_BN) [[Notebook]](t81_558_class_04_2_multi_class.ipynb)\n",
    "* **Part 4.3: Keras Regression for Deep Neural Networks with RMSE** [[Video]](https://www.youtube.com/watch?v=wNhBUC6X5-E&list=PLjy4p-07OYzulelvJ5KVaT2pDlxivl_BN) [[Notebook]](t81_558_class_04_3_regression.ipynb)\n",
    "* Part 4.4: Backpropagation, Nesterov Momentum, and ADAM Neural Network Training [[Video]](https://www.youtube.com/watch?v=VbDg8aBgpck&list=PLjy4p-07OYzulelvJ5KVaT2pDlxivl_BN) [[Notebook]](t81_558_class_04_4_backprop.ipynb)\n",
    "* Part 4.5: Neural Network RMSE and Log Loss Error Calculation from Scratch [[Video]](https://www.youtube.com/watch?v=wmQX1t2PHJc&list=PLjy4p-07OYzulelvJ5KVaT2pDlxivl_BN) [[Notebook]](t81_558_class_04_5_rmse_logloss.ipynb)"
   ]
  },
  {
   "cell_type": "markdown",
   "metadata": {},
   "source": [
    "# Google CoLab Instructions\n",
    "\n",
    "The following code ensures that Google CoLab is running the correct version of TensorFlow."
   ]
  },
  {
   "cell_type": "code",
   "execution_count": 1,
   "metadata": {},
   "outputs": [
    {
     "name": "stdout",
     "output_type": "stream",
     "text": [
      "Note: not using Google CoLab\n"
     ]
    }
   ],
   "source": [
    "try:\n",
    "    %tensorflow_version 2.x\n",
    "    COLAB = True\n",
    "    print(\"Note: using Google CoLab\")\n",
    "except:\n",
    "    print(\"Note: not using Google CoLab\")\n",
    "    COLAB = False"
   ]
  },
  {
   "cell_type": "markdown",
   "metadata": {},
   "source": [
    "# Part 4.3: Keras Regression for Deep Neural Networks with RMSE\n",
    "\n",
    "Regression results are evaluated differently than classification.  Consider the following code that trains a neural network for regression on the data set **jh-simple-dataset.csv**.  "
   ]
  },
  {
   "cell_type": "code",
   "execution_count": 2,
   "metadata": {},
   "outputs": [],
   "source": [
    "import pandas as pd\n",
    "from scipy.stats import zscore\n",
    "from sklearn.model_selection import train_test_split\n",
    "import matplotlib.pyplot as plt\n",
    "\n",
    "# Read the data set\n",
    "df = pd.read_csv(\n",
    "    \"https://data.heatonresearch.com/data/t81-558/jh-simple-dataset.csv\",\n",
    "    na_values=['NA','?'])\n",
    "\n",
    "# Generate dummies for job\n",
    "df = pd.concat([df,pd.get_dummies(df['job'],prefix=\"job\")],axis=1)\n",
    "df.drop('job', axis=1, inplace=True)\n",
    "\n",
    "# Generate dummies for area\n",
    "df = pd.concat([df,pd.get_dummies(df['area'],prefix=\"area\")],axis=1)\n",
    "df.drop('area', axis=1, inplace=True)\n",
    "\n",
    "# Generate dummies for product\n",
    "df = pd.concat([df,pd.get_dummies(df['product'],prefix=\"product\")],axis=1)\n",
    "df.drop('product', axis=1, inplace=True)\n",
    "\n",
    "# Missing values for income\n",
    "med = df['income'].median()\n",
    "df['income'] = df['income'].fillna(med)\n",
    "\n",
    "# Standardize ranges\n",
    "df['income'] = zscore(df['income'])\n",
    "df['aspect'] = zscore(df['aspect'])\n",
    "df['save_rate'] = zscore(df['save_rate'])\n",
    "df['subscriptions'] = zscore(df['subscriptions'])\n",
    "\n",
    "# Convert to numpy - Classification\n",
    "x_columns = df.columns.drop('age').drop('id')\n",
    "x = df[x_columns].values\n",
    "y = df['age'].values\n",
    "\n",
    "# Create train/test\n",
    "x_train, x_test, y_train, y_test = train_test_split(    \n",
    "    x, y, test_size=0.25, random_state=42)"
   ]
  },
  {
   "cell_type": "code",
   "execution_count": 3,
   "metadata": {},
   "outputs": [
    {
     "name": "stdout",
     "output_type": "stream",
     "text": [
      "Train on 1500 samples, validate on 500 samples\n",
      "Epoch 1/1000\n",
      "1500/1500 - 1s - loss: 1905.4454 - val_loss: 1628.1341\n",
      "Epoch 2/1000\n",
      "1500/1500 - 0s - loss: 1331.4213 - val_loss: 889.0575\n",
      "Epoch 3/1000\n",
      "1500/1500 - 0s - loss: 554.8426 - val_loss: 303.7261\n",
      "Epoch 4/1000\n",
      "1500/1500 - 0s - loss: 276.2087 - val_loss: 241.2495\n",
      "Epoch 5/1000\n",
      "1500/1500 - 0s - loss: 232.2832 - val_loss: 208.2143\n",
      "Epoch 6/1000\n",
      "1500/1500 - 0s - loss: 198.5331 - val_loss: 179.5262\n",
      "Epoch 7/1000\n",
      "1500/1500 - 0s - loss: 169.0791 - val_loss: 154.5270\n",
      "Epoch 8/1000\n",
      "1500/1500 - 0s - loss: 144.1286 - val_loss: 132.8691\n",
      "Epoch 9/1000\n",
      "1500/1500 - 0s - loss: 122.9873 - val_loss: 115.0928\n",
      "Epoch 10/1000\n",
      "1500/1500 - 0s - loss: 104.7249 - val_loss: 98.7375\n",
      "Epoch 11/1000\n",
      "1500/1500 - 0s - loss: 89.8292 - val_loss: 86.2749\n",
      "Epoch 12/1000\n",
      "1500/1500 - 0s - loss: 77.3071 - val_loss: 75.0022\n",
      "Epoch 13/1000\n",
      "1500/1500 - 0s - loss: 67.0604 - val_loss: 66.1396\n",
      "Epoch 14/1000\n",
      "1500/1500 - 0s - loss: 58.9584 - val_loss: 58.4367\n",
      "Epoch 15/1000\n",
      "1500/1500 - 0s - loss: 51.2491 - val_loss: 52.7136\n",
      "Epoch 16/1000\n",
      "1500/1500 - 0s - loss: 45.1765 - val_loss: 46.5179\n",
      "Epoch 17/1000\n",
      "1500/1500 - 0s - loss: 39.8843 - val_loss: 41.3721\n",
      "Epoch 18/1000\n",
      "1500/1500 - 0s - loss: 35.1468 - val_loss: 37.2132\n",
      "Epoch 19/1000\n",
      "1500/1500 - 0s - loss: 31.1755 - val_loss: 33.0697\n",
      "Epoch 20/1000\n",
      "1500/1500 - 0s - loss: 27.6307 - val_loss: 30.3131\n",
      "Epoch 21/1000\n",
      "1500/1500 - 0s - loss: 24.8457 - val_loss: 26.9474\n",
      "Epoch 22/1000\n",
      "1500/1500 - 0s - loss: 22.4056 - val_loss: 24.3656\n",
      "Epoch 23/1000\n",
      "1500/1500 - 0s - loss: 20.3071 - val_loss: 22.1642\n",
      "Epoch 24/1000\n",
      "1500/1500 - 0s - loss: 18.5446 - val_loss: 20.4782\n",
      "Epoch 25/1000\n",
      "1500/1500 - 0s - loss: 17.1571 - val_loss: 18.8670\n",
      "Epoch 26/1000\n",
      "1500/1500 - 0s - loss: 15.9407 - val_loss: 17.6862\n",
      "Epoch 27/1000\n",
      "1500/1500 - 0s - loss: 14.9866 - val_loss: 16.5275\n",
      "Epoch 28/1000\n",
      "1500/1500 - 0s - loss: 14.1251 - val_loss: 15.6342\n",
      "Epoch 29/1000\n",
      "1500/1500 - 0s - loss: 13.4655 - val_loss: 14.8625\n",
      "Epoch 30/1000\n",
      "1500/1500 - 0s - loss: 12.8994 - val_loss: 14.2826\n",
      "Epoch 31/1000\n",
      "1500/1500 - 0s - loss: 12.5566 - val_loss: 13.6121\n",
      "Epoch 32/1000\n",
      "1500/1500 - 0s - loss: 12.0077 - val_loss: 13.3087\n",
      "Epoch 33/1000\n",
      "1500/1500 - 0s - loss: 11.5357 - val_loss: 12.6593\n",
      "Epoch 34/1000\n",
      "1500/1500 - 0s - loss: 11.2365 - val_loss: 12.1849\n",
      "Epoch 35/1000\n",
      "1500/1500 - 0s - loss: 10.8074 - val_loss: 11.9388\n",
      "Epoch 36/1000\n",
      "1500/1500 - 0s - loss: 10.5593 - val_loss: 11.4006\n",
      "Epoch 37/1000\n",
      "1500/1500 - 0s - loss: 10.2093 - val_loss: 10.9751\n",
      "Epoch 38/1000\n",
      "1500/1500 - 0s - loss: 9.8386 - val_loss: 10.8651\n",
      "Epoch 39/1000\n",
      "1500/1500 - 0s - loss: 9.5938 - val_loss: 10.5728\n",
      "Epoch 40/1000\n",
      "1500/1500 - 0s - loss: 9.1488 - val_loss: 9.8661\n",
      "Epoch 41/1000\n",
      "1500/1500 - 0s - loss: 8.8920 - val_loss: 9.5228\n",
      "Epoch 42/1000\n",
      "1500/1500 - 0s - loss: 8.5156 - val_loss: 9.1506\n",
      "Epoch 43/1000\n",
      "1500/1500 - 0s - loss: 8.2628 - val_loss: 8.9486\n",
      "Epoch 44/1000\n",
      "1500/1500 - 0s - loss: 7.9219 - val_loss: 8.5034\n",
      "Epoch 45/1000\n",
      "1500/1500 - 0s - loss: 7.7077 - val_loss: 8.0760\n",
      "Epoch 46/1000\n",
      "1500/1500 - 0s - loss: 7.3165 - val_loss: 7.6620\n",
      "Epoch 47/1000\n",
      "1500/1500 - 0s - loss: 7.0259 - val_loss: 7.4933\n",
      "Epoch 48/1000\n",
      "1500/1500 - 0s - loss: 6.7422 - val_loss: 7.0583\n",
      "Epoch 49/1000\n",
      "1500/1500 - 0s - loss: 6.5163 - val_loss: 6.8024\n",
      "Epoch 50/1000\n",
      "1500/1500 - 0s - loss: 6.2633 - val_loss: 7.3045\n",
      "Epoch 51/1000\n",
      "1500/1500 - 0s - loss: 6.0029 - val_loss: 6.2712\n",
      "Epoch 52/1000\n",
      "1500/1500 - 0s - loss: 5.6791 - val_loss: 5.9342\n",
      "Epoch 53/1000\n",
      "1500/1500 - 0s - loss: 5.4798 - val_loss: 6.0110\n",
      "Epoch 54/1000\n",
      "1500/1500 - 0s - loss: 5.2115 - val_loss: 5.3928\n",
      "Epoch 55/1000\n",
      "1500/1500 - 0s - loss: 4.9592 - val_loss: 5.2215\n",
      "Epoch 56/1000\n",
      "1500/1500 - 0s - loss: 4.7189 - val_loss: 5.0103\n",
      "Epoch 57/1000\n",
      "1500/1500 - 0s - loss: 4.4683 - val_loss: 4.7098\n",
      "Epoch 58/1000\n",
      "1500/1500 - 0s - loss: 4.2650 - val_loss: 4.5259\n",
      "Epoch 59/1000\n",
      "1500/1500 - 0s - loss: 4.0953 - val_loss: 4.4263\n",
      "Epoch 60/1000\n",
      "1500/1500 - 0s - loss: 3.8027 - val_loss: 4.1103\n",
      "Epoch 61/1000\n",
      "1500/1500 - 0s - loss: 3.5759 - val_loss: 3.7770\n",
      "Epoch 62/1000\n",
      "1500/1500 - 0s - loss: 3.3755 - val_loss: 3.5737\n",
      "Epoch 63/1000\n",
      "1500/1500 - 0s - loss: 3.1781 - val_loss: 3.4833\n",
      "Epoch 64/1000\n",
      "1500/1500 - 0s - loss: 3.0001 - val_loss: 3.2246\n",
      "Epoch 65/1000\n",
      "1500/1500 - 0s - loss: 2.7691 - val_loss: 3.1021\n",
      "Epoch 66/1000\n",
      "1500/1500 - 0s - loss: 2.6227 - val_loss: 2.8215\n",
      "Epoch 67/1000\n",
      "1500/1500 - 0s - loss: 2.4682 - val_loss: 2.7528\n",
      "Epoch 68/1000\n",
      "1500/1500 - 0s - loss: 2.3243 - val_loss: 2.5394\n",
      "Epoch 69/1000\n",
      "1500/1500 - 0s - loss: 2.1664 - val_loss: 2.3886\n",
      "Epoch 70/1000\n",
      "1500/1500 - 0s - loss: 2.0377 - val_loss: 2.2536\n",
      "Epoch 71/1000\n",
      "1500/1500 - 0s - loss: 1.8845 - val_loss: 2.2354\n",
      "Epoch 72/1000\n",
      "1500/1500 - 0s - loss: 1.7931 - val_loss: 2.0831\n",
      "Epoch 73/1000\n",
      "1500/1500 - 0s - loss: 1.6889 - val_loss: 1.8866\n",
      "Epoch 74/1000\n",
      "1500/1500 - 0s - loss: 1.5820 - val_loss: 1.7964\n",
      "Epoch 75/1000\n",
      "1500/1500 - 0s - loss: 1.5085 - val_loss: 1.7138\n",
      "Epoch 76/1000\n",
      "1500/1500 - 0s - loss: 1.4159 - val_loss: 1.6468\n",
      "Epoch 77/1000\n",
      "1500/1500 - 0s - loss: 1.3606 - val_loss: 1.5906\n",
      "Epoch 78/1000\n",
      "1500/1500 - 0s - loss: 1.2652 - val_loss: 1.5063\n",
      "Epoch 79/1000\n",
      "1500/1500 - 0s - loss: 1.1937 - val_loss: 1.4506\n",
      "Epoch 80/1000\n",
      "1500/1500 - 0s - loss: 1.1180 - val_loss: 1.4817\n",
      "Epoch 81/1000\n",
      "1500/1500 - 0s - loss: 1.1412 - val_loss: 1.2800\n",
      "Epoch 82/1000\n",
      "1500/1500 - 0s - loss: 1.0385 - val_loss: 1.2412\n",
      "Epoch 83/1000\n",
      "1500/1500 - 0s - loss: 0.9846 - val_loss: 1.1891\n",
      "Epoch 84/1000\n",
      "1500/1500 - 0s - loss: 0.9937 - val_loss: 1.1322\n",
      "Epoch 85/1000\n",
      "1500/1500 - 0s - loss: 0.8915 - val_loss: 1.0847\n",
      "Epoch 86/1000\n",
      "1500/1500 - 0s - loss: 0.8562 - val_loss: 1.1110\n",
      "Epoch 87/1000\n",
      "1500/1500 - 0s - loss: 0.8468 - val_loss: 1.0686\n",
      "Epoch 88/1000\n",
      "1500/1500 - 0s - loss: 0.7947 - val_loss: 0.9805\n",
      "Epoch 89/1000\n",
      "1500/1500 - 0s - loss: 0.7807 - val_loss: 0.9463\n",
      "Epoch 90/1000\n",
      "1500/1500 - 0s - loss: 0.7502 - val_loss: 0.9965\n",
      "Epoch 91/1000\n",
      "1500/1500 - 0s - loss: 0.7529 - val_loss: 0.9532\n",
      "Epoch 92/1000\n",
      "1500/1500 - 0s - loss: 0.6857 - val_loss: 0.8712\n",
      "Epoch 93/1000\n",
      "1500/1500 - 0s - loss: 0.6717 - val_loss: 0.8498\n",
      "Epoch 94/1000\n",
      "1500/1500 - 0s - loss: 0.6869 - val_loss: 0.8518\n",
      "Epoch 95/1000\n",
      "1500/1500 - 0s - loss: 0.6626 - val_loss: 0.8275\n",
      "Epoch 96/1000\n",
      "1500/1500 - 0s - loss: 0.6308 - val_loss: 0.7850\n",
      "Epoch 97/1000\n",
      "1500/1500 - 0s - loss: 0.6056 - val_loss: 0.7708\n",
      "Epoch 98/1000\n",
      "1500/1500 - 0s - loss: 0.5991 - val_loss: 0.7643\n",
      "Epoch 99/1000\n",
      "1500/1500 - 0s - loss: 0.6102 - val_loss: 0.8104\n",
      "Epoch 100/1000\n",
      "1500/1500 - 0s - loss: 0.5647 - val_loss: 0.7227\n",
      "Epoch 101/1000\n",
      "1500/1500 - 0s - loss: 0.5474 - val_loss: 0.7107\n",
      "Epoch 102/1000\n",
      "1500/1500 - 0s - loss: 0.5395 - val_loss: 0.6847\n",
      "Epoch 103/1000\n",
      "1500/1500 - 0s - loss: 0.5350 - val_loss: 0.7383\n",
      "Epoch 104/1000\n",
      "1500/1500 - 0s - loss: 0.5551 - val_loss: 0.6698\n",
      "Epoch 105/1000\n",
      "1500/1500 - 0s - loss: 0.5032 - val_loss: 0.6520\n",
      "Epoch 106/1000\n",
      "1500/1500 - 0s - loss: 0.5418 - val_loss: 0.7518\n",
      "Epoch 107/1000\n",
      "1500/1500 - 0s - loss: 0.4949 - val_loss: 0.6307\n",
      "Epoch 108/1000\n",
      "1500/1500 - 0s - loss: 0.5166 - val_loss: 0.6741\n",
      "Epoch 109/1000\n",
      "1500/1500 - 0s - loss: 0.4992 - val_loss: 0.6195\n",
      "Epoch 110/1000\n",
      "1500/1500 - 0s - loss: 0.4610 - val_loss: 0.6268\n",
      "Epoch 111/1000\n",
      "1500/1500 - 0s - loss: 0.4554 - val_loss: 0.5956\n",
      "Epoch 112/1000\n",
      "1500/1500 - 0s - loss: 0.4704 - val_loss: 0.5977\n",
      "Epoch 113/1000\n",
      "1500/1500 - 0s - loss: 0.4687 - val_loss: 0.5736\n",
      "Epoch 114/1000\n",
      "1500/1500 - 0s - loss: 0.4497 - val_loss: 0.5817\n",
      "Epoch 115/1000\n",
      "1500/1500 - 0s - loss: 0.4326 - val_loss: 0.5833\n",
      "Epoch 116/1000\n",
      "1500/1500 - 0s - loss: 0.4181 - val_loss: 0.5738\n",
      "Epoch 117/1000\n",
      "1500/1500 - 0s - loss: 0.4252 - val_loss: 0.5688\n",
      "Epoch 118/1000\n",
      "1500/1500 - 0s - loss: 0.4675 - val_loss: 0.5680\n",
      "Epoch 119/1000\n",
      "1500/1500 - 0s - loss: 0.4328 - val_loss: 0.5463\n",
      "Epoch 120/1000\n",
      "1500/1500 - 0s - loss: 0.4091 - val_loss: 0.5912\n",
      "Epoch 121/1000\n",
      "1500/1500 - 0s - loss: 0.4047 - val_loss: 0.5459\n",
      "Epoch 122/1000\n",
      "1500/1500 - 0s - loss: 0.4456 - val_loss: 0.5509\n",
      "Epoch 123/1000\n",
      "1500/1500 - 0s - loss: 0.4081 - val_loss: 0.5540\n",
      "Epoch 124/1000\n",
      "Restoring model weights from the end of the best epoch.\n",
      "1500/1500 - 0s - loss: 0.4353 - val_loss: 0.5538\n",
      "Epoch 00124: early stopping\n"
     ]
    },
    {
     "data": {
      "text/plain": [
       "<tensorflow.python.keras.callbacks.History at 0x1a40e6b0d0>"
      ]
     },
     "execution_count": 3,
     "metadata": {},
     "output_type": "execute_result"
    }
   ],
   "source": [
    "from tensorflow.keras.models import Sequential\n",
    "from tensorflow.keras.layers import Dense, Activation\n",
    "from tensorflow.keras.callbacks import EarlyStopping\n",
    "\n",
    "# Build the neural network\n",
    "model = Sequential()\n",
    "model.add(Dense(25, input_dim=x.shape[1], activation='relu')) # Hidden 1\n",
    "model.add(Dense(10, activation='relu')) # Hidden 2\n",
    "model.add(Dense(1)) # Output\n",
    "model.compile(loss='mean_squared_error', optimizer='adam')\n",
    "monitor = EarlyStopping(monitor='val_loss', min_delta=1e-3, \n",
    "                        patience=5, verbose=1, mode='auto', restore_best_weights=True)\n",
    "model.fit(x_train,y_train,validation_data=(x_test,y_test),callbacks=[monitor],verbose=2,epochs=1000)\n"
   ]
  },
  {
   "cell_type": "markdown",
   "metadata": {},
   "source": [
    "### Mean Square Error\n",
    "\n",
    "The mean square error is the sum of the squared differences between the prediction ($\\hat{y}$) and the expected ($y$).  MSE values are not of a particular unit.  If an MSE value has decreased for a model, that is good.  However, beyond this, there is not much more you can determine.  Low MSE values are desired.\n",
    "\n",
    "$ \\mbox{MSE} = \\frac{1}{n} \\sum_{i=1}^n \\left(\\hat{y}_i - y_i\\right)^2 $\n"
   ]
  },
  {
   "cell_type": "code",
   "execution_count": 4,
   "metadata": {},
   "outputs": [
    {
     "name": "stdout",
     "output_type": "stream",
     "text": [
      "Final score (MSE): 0.5463447829677607\n"
     ]
    }
   ],
   "source": [
    "from sklearn import metrics\n",
    "\n",
    "# Predict\n",
    "pred = model.predict(x_test)\n",
    "\n",
    "# Measure MSE error.  \n",
    "score = metrics.mean_squared_error(pred,y_test)\n",
    "print(\"Final score (MSE): {}\".format(score))"
   ]
  },
  {
   "cell_type": "markdown",
   "metadata": {},
   "source": [
    "### Root Mean Square Error\n",
    "\n",
    "The root mean square (RMSE) is essentially the square root of the MSE.  Because of this, the RMSE error is in the same units as the training data outcome. Low RMSE values are desired.\n",
    "\n",
    "$ \\mbox{RMSE} = \\sqrt{\\frac{1}{n} \\sum_{i=1}^n \\left(\\hat{y}_i - y_i\\right)^2} $"
   ]
  },
  {
   "cell_type": "code",
   "execution_count": 5,
   "metadata": {},
   "outputs": [
    {
     "name": "stdout",
     "output_type": "stream",
     "text": [
      "Final score (RMSE): 0.7391513938076291\n"
     ]
    }
   ],
   "source": [
    "import numpy as np\n",
    "\n",
    "# Measure RMSE error.  RMSE is common for regression.\n",
    "score = np.sqrt(metrics.mean_squared_error(pred,y_test))\n",
    "print(\"Final score (RMSE): {}\".format(score))"
   ]
  },
  {
   "cell_type": "markdown",
   "metadata": {},
   "source": [
    "### Lift Chart\n",
    "\n",
    "\n",
    "To generate a lift chart, perform the following activities:\n",
    "\n",
    "* Sort the data by expected output. Plot the blue line above.\n",
    "* For every point on the x-axis plot the predicted value for that same data point. This is the green line above.\n",
    "* The x-axis is just 0 to 100% of the dataset. The expected always starts low and ends high.\n",
    "* The y-axis is ranged according to the values predicted.\n",
    "\n",
    "Reading a lift chart:\n",
    "\n",
    "* The expected and predict lines should be close. Notice where one is above the ot other.\n",
    "* The below chart is the most accurate on lower age."
   ]
  },
  {
   "cell_type": "code",
   "execution_count": 6,
   "metadata": {},
   "outputs": [],
   "source": [
    "# Regression chart.\n",
    "def chart_regression(pred, y, sort=True):\n",
    "    t = pd.DataFrame({'pred': pred, 'y': y.flatten()})\n",
    "    if sort:\n",
    "        t.sort_values(by=['y'], inplace=True)\n",
    "    plt.plot(t['y'].tolist(), label='expected')\n",
    "    plt.plot(t['pred'].tolist(), label='prediction')\n",
    "    plt.ylabel('output')\n",
    "    plt.legend()\n",
    "    plt.show()"
   ]
  },
  {
   "cell_type": "code",
   "execution_count": 7,
   "metadata": {},
   "outputs": [
    {
     "data": {
      "image/png": "[encoded data removed]",
      "text/plain": [
       "<Figure size 432x288 with 1 Axes>"
      ]
     },
     "metadata": {
      "needs_background": "light"
     },
     "output_type": "display_data"
    }
   ],
   "source": [
    "\n",
    "# Plot the chart\n",
    "chart_regression(pred.flatten(),y_test)"
   ]
  },
  {
   "cell_type": "code",
   "execution_count": null,
   "metadata": {},
   "outputs": [],
   "source": []
  }
 ],
 "metadata": {
  "anaconda-cloud": {},
  "kernelspec": {
   "display_name": "Python 3.6 (tensorflow)",
   "language": "python",
   "name": "rga"
  },
  "language_info": {
   "codemirror_mode": {
    "name": "ipython",
    "version": 3
   },
   "file_extension": ".py",
   "mimetype": "text/x-python",
   "name": "python",
   "nbconvert_exporter": "python",
   "pygments_lexer": "ipython3",
   "version": "3.7.5"
  }
 },
 "nbformat": 4,
 "nbformat_minor": 4
}
