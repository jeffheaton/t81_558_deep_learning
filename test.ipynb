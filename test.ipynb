{
 "cells": [
  {
   "cell_type": "markdown",
   "metadata": {
    "id": "bLEEW13uCtiJ"
   },
   "source": [
    "<a href=\"https://colab.research.google.com/github/jeffheaton/t81_558_deep_learning/blob/master/t81_558_class_03_2_keras.ipynb\" target=\"_parent\"><img src=\"https://colab.research.google.com/assets/colab-badge.svg\" alt=\"Open In Colab\"/></a>"
   ]
  },
  {
   "cell_type": "markdown",
   "metadata": {
    "id": "5oX6K_-JCtiL"
   },
   "source": [
    "# T81-558: Applications of Deep Neural Networks\n",
    "**Module 3: Introduction to TensorFlow**\n",
    "* Instructor: [Jeff Heaton](https://sites.wustl.edu/jeffheaton/), McKelvey School of Engineering, [Washington University in St. Louis](https://engineering.wustl.edu/Programs/Pages/default.aspx)\n",
    "* For more information visit the [class website](https://sites.wustl.edu/jeffheaton/t81-558/)."
   ]
  },
  {
   "cell_type": "markdown",
   "metadata": {
    "id": "FzlMdsudCtiL"
   },
   "source": [
    "# Module 3 Material\n",
    "\n",
    "* Part 3.1: Deep Learning and Neural Network Introduction [[Video]](https://www.youtube.com/watch?v=zYnI4iWRmpc&list=PLjy4p-07OYzulelvJ5KVaT2pDlxivl_BN) [[Notebook]](https://github.com/jeffheaton/t81_558_deep_learning/blob/master/t81_558_class_03_1_neural_net.ipynb)\n",
    "* **Part 3.2: Introduction to Tensorflow and Keras** [[Video]](https://www.youtube.com/watch?v=PsE73jk55cE&list=PLjy4p-07OYzulelvJ5KVaT2pDlxivl_BN) [[Notebook]](https://github.com/jeffheaton/t81_558_deep_learning/blob/master/t81_558_class_03_2_keras.ipynb)\n",
    "* Part 3.3: Saving and Loading a Keras Neural Network [[Video]](https://www.youtube.com/watch?v=-9QfbGM1qGw&list=PLjy4p-07OYzulelvJ5KVaT2pDlxivl_BN) [[Notebook]](https://github.com/jeffheaton/t81_558_deep_learning/blob/master/t81_558_class_03_3_save_load.ipynb)\n",
    "* Part 3.4: Early Stopping in Keras to Prevent Overfitting [[Video]](https://www.youtube.com/watch?v=m1LNunuI2fk&list=PLjy4p-07OYzulelvJ5KVaT2pDlxivl_BN) [[Notebook]](https://github.com/jeffheaton/t81_558_deep_learning/blob/master/t81_558_class_03_4_early_stop.ipynb)\n",
    "* Part 3.5: Extracting Weights and Manual Calculation [[Video]](https://www.youtube.com/watch?v=7PWgx16kH8s&list=PLjy4p-07OYzulelvJ5KVaT2pDlxivl_BN) [[Notebook]](https://github.com/jeffheaton/t81_558_deep_learning/blob/master/t81_558_class_03_5_weights.ipynb)"
   ]
  },
  {
   "cell_type": "markdown",
   "metadata": {
    "id": "CpVJpj2DCtiM"
   },
   "source": [
    "# Google CoLab Instructions\n",
    "\n",
    "The following code ensures that Google CoLab is running the correct version of TensorFlow."
   ]
  },
  {
   "cell_type": "code",
   "execution_count": null,
   "metadata": {
    "colab": {
     "base_uri": "https://localhost:8080/"
    },
    "id": "wU1AMzx8CtiM",
    "outputId": "24a17c67-4563-471f-9955-dfadd0f171d7"
   },
   "outputs": [
    {
     "name": "stdout",
     "output_type": "stream",
     "text": [
      "Note: using Google CoLab\n"
     ]
    }
   ],
   "source": [
    "try:\n",
    "    %tensorflow_version 2.x\n",
    "    COLAB = True\n",
    "    print(\"Note: using Google CoLab\")\n",
    "except:\n",
    "    print(\"Note: not using Google CoLab\")\n",
    "    COLAB = False"
   ]
  },
  {
   "cell_type": "markdown",
   "metadata": {
    "id": "1Zg-zNx0CtiN"
   },
   "source": [
    "# Part 3.2: Introduction to Tensorflow and Keras\n",
    "\n",
    "TensorFlow [[Cite:GoogleTensorFlow]](https://research.google/pubs/pub45381/) is an open-source software library for machine learning in various kinds of perceptual and language understanding tasks. It is currently used for research and production by different teams in many commercial Google products, such as speech recognition, Gmail, Google Photos, and search, many of which had previously used its predecessor DistBelief. TensorFlow was originally developed by the Google Brain team for Google's research and production purposes and later released under the Apache 2.0 open source license on November 9, 2015.\n",
    "\n",
    "* [TensorFlow Homepage](https://www.tensorflow.org/)\n",
    "* [TensorFlow GitHib](https://github.com/tensorflow/tensorflow)\n",
    "* [TensorFlow Google Groups Support](https://groups.google.com/forum/#!forum/tensorflow)\n",
    "* [TensorFlow Google Groups Developer Discussion](https://groups.google.com/a/tensorflow.org/forum/#!forum/discuss)\n",
    "* [TensorFlow FAQ](https://www.tensorflow.org/resources/faq)\n",
    "\n",
    "## Why TensorFlow\n",
    "\n",
    "* Supported by Google\n",
    "* Works well on Windows, Linux, and Mac\n",
    "* Excellent GPU support\n",
    "* Python is an easy to learn programming language\n",
    "* Python is extremely popular in the data science community\n",
    "\n",
    "## Deep Learning Tools\n",
    "TensorFlow is not the only game in town. The biggest competitor to TensorFlow/Keras is PyTorch. Listed below are some of the deep learning toolkits actively being supported:\n",
    "\n",
    "* **[TensorFlow](https://www.tensorflow.org/)** - Google's deep learning API.  The focus of this class, along with Keras.\n",
    "* **[Keras](https://keras.io/)** - Acts as a higher-level to Tensorflow.\n",
    "* **[PyTorch](https://pytorch.org/)** - PyTorch is an open-source machine learning library based on the Torch library, used for computer vision and natural language applications processing. Facebook's AI Research lab primarily develops PyTorch. \n",
    "\n",
    "Other deep learning tools:\n",
    "\n",
    "* **[Deeplearning4J](http://deeplearning4j.org/)** - Java-based. Supports all major platforms. GPU support in Java!\n",
    "* **[H2O](http://www.h2o.ai/)** - Java-based.  \n",
    "\n",
    "In my opinion, the two primary Python libraries for deep learning are PyTorch and Keras. Generally, PyTorch requires more lines of code to perform the deep learning applications presented in this course. This trait of PyTorch gives Keras an easier learning curve than PyTorch. However, if you are creating entirely new neural network structures in a research setting, PyTorch can make for easier access to some of the low-level internals of deep learning.\n",
    "\n",
    "## Using TensorFlow Directly\n",
    "\n",
    "Most of the time in the course, we will communicate with TensorFlow using Keras [[Cite:franccois2017deep]](https://www.manning.com/books/deep-learning-with-python), which allows you to specify the number of hidden layers and create the neural network. TensorFlow is a low-level mathematics API, similar to [Numpy](http://www.numpy.org/). However, unlike Numpy, TensorFlow is built for deep learning. TensorFlow compiles these compute graphs into highly efficient C++/[CUDA](https://en.wikipedia.org/wiki/CUDA) code.\n",
    "\n",
    "## TensorFlow Linear Algebra Examples\n",
    "\n",
    "TensorFlow is a library for linear algebra. Keras is a higher-level abstraction for neural networks that you build upon TensorFlow. In this section, I will demonstrate some basic linear algebra that directly employs TensorFlow and does not use Keras. First, we will see how to multiply a row and column matrix."
   ]
  },
  {
   "cell_type": "code",
   "execution_count": null,
   "metadata": {
    "colab": {
     "base_uri": "https://localhost:8080/"
    },
    "id": "bkh9pHqPCtiO",
    "outputId": "bb56c591-c48e-4b04-ea8e-047fcf770bb7"
   },
   "outputs": [
    {
     "name": "stdout",
     "output_type": "stream",
     "text": [
      "tf.Tensor([[12.]], shape=(1, 1), dtype=float32)\n",
      "12.0\n"
     ]
    }
   ],
   "source": [
    "import tensorflow as tf\n",
    "\n",
    "# Create a Constant op that produces a 1x2 matrix.  The op is\n",
    "# added as a node to the default graph.\n",
    "#\n",
    "# The value returned by the constructor represents the output\n",
    "# of the Constant op.\n",
    "matrix1 = tf.constant([[3., 3.]])\n",
    "\n",
    "# Create another Constant that produces a 2x1 matrix.\n",
    "matrix2 = tf.constant([[2.],[2.]])\n",
    "\n",
    "# Create a Matmul op that takes 'matrix1' and 'matrix2' as inputs.\n",
    "# The returned value, 'product', represents the result of the matrix\n",
    "# multiplication.\n",
    "product = tf.matmul(matrix1, matrix2)\n",
    "\n",
    "print(product)\n",
    "print(float(product))"
   ]
  },
  {
   "cell_type": "markdown",
   "metadata": {
    "id": "pMrXqwskCtiP"
   },
   "source": [
    "This example multiplied two TensorFlow constant tensors.  Next, we will see how to subtract a constant from a variable."
   ]
  },
  {
   "cell_type": "code",
   "execution_count": null,
   "metadata": {
    "colab": {
     "base_uri": "https://localhost:8080/"
    },
    "id": "qKyFCaoTCtiP",
    "outputId": "d215868a-b0d5-40ca-c65e-5fca8ab36c9a"
   },
   "outputs": [
    {
     "name": "stdout",
     "output_type": "stream",
     "text": [
      "tf.Tensor([-2. -1.], shape=(2,), dtype=float32)\n",
      "[-2. -1.]\n"
     ]
    }
   ],
   "source": [
    "import tensorflow as tf\n",
    "\n",
    "x = tf.Variable([1.0, 2.0])\n",
    "a = tf.constant([3.0, 3.0])\n",
    "\n",
    "# Add an op to subtract 'a' from 'x'.  Run it and print the result\n",
    "sub = tf.subtract(x, a)\n",
    "print(sub)\n",
    "print(sub.numpy())\n",
    "# ==> [-2. -1.]"
   ]
  },
  {
   "cell_type": "markdown",
   "metadata": {
    "id": "epQ9LrM6CtiP"
   },
   "source": [
    "Of course, variables are only useful if their values can be changed.  The program can accomplish this change in value by calling the assign function."
   ]
  },
  {
   "cell_type": "code",
   "execution_count": null,
   "metadata": {
    "colab": {
     "base_uri": "https://localhost:8080/"
    },
    "id": "vtnW5aU-CtiP",
    "outputId": "3c09cd43-af12-4d83-c6e5-4085e745aa8e"
   },
   "outputs": [
    {
     "data": {
      "text/plain": [
       "<tf.Variable 'UnreadVariable' shape=(2,) dtype=float32, numpy=array([4., 6.], dtype=float32)>"
      ]
     },
     "execution_count": 4,
     "metadata": {},
     "output_type": "execute_result"
    }
   ],
   "source": [
    "x.assign([4.0, 6.0])"
   ]
  },
  {
   "cell_type": "markdown",
   "metadata": {
    "id": "zHwJP8MjCtiQ"
   },
   "source": [
    "The program can now perform the subtraction with this new value."
   ]
  },
  {
   "cell_type": "code",
   "execution_count": null,
   "metadata": {
    "colab": {
     "base_uri": "https://localhost:8080/"
    },
    "id": "0e26Fe-GCtiQ",
    "outputId": "1e9af0e7-4542-469a-b4b9-f5a62de1d199"
   },
   "outputs": [
    {
     "name": "stdout",
     "output_type": "stream",
     "text": [
      "tf.Tensor([1. 3.], shape=(2,), dtype=float32)\n",
      "[1. 3.]\n"
     ]
    }
   ],
   "source": [
    "sub = tf.subtract(x, a)\n",
    "print(sub)\n",
    "print(sub.numpy())"
   ]
  },
  {
   "cell_type": "markdown",
   "metadata": {
    "id": "Rq61YFBYCtiQ"
   },
   "source": [
    "In the next section, we will see a TensorFlow example that has nothing to do with neural networks."
   ]
  },
  {
   "cell_type": "markdown",
   "metadata": {
    "id": "iMVIS9pBCtiQ"
   },
   "source": [
    "## TensorFlow Mandelbrot Set Example\n",
    "\n",
    "Next, we examine another example where we use TensorFlow directly. To demonstrate that TensorFlow is mathematical and does not only provide neural networks, we will also first use it for a non-machine learning rendering task. The code presented here can render a [Mandelbrot set](https://en.wikipedia.org/wiki/Mandelbrot_set)."
   ]
  },
  {
   "cell_type": "code",
   "execution_count": null,
   "metadata": {
    "id": "v4ll1OLwCtiQ"
   },
   "outputs": [],
   "source": [
    "import tensorflow as tf\n",
    "import numpy as np\n",
    "\n",
    "import PIL.Image\n",
    "from io import BytesIO\n",
    "from IPython.display import Image, display\n",
    "\n",
    "def render(a):\n",
    "  a_cyclic = (a*0.3).reshape(list(a.shape)+[1])\n",
    "  img = np.concatenate([10+20*np.cos(a_cyclic),\n",
    "                        30+50*np.sin(a_cyclic),\n",
    "                        155-80*np.cos(a_cyclic)], 2)\n",
    "  img[a==a.max()] = 0\n",
    "  a = img\n",
    "  a = np.uint8(np.clip(a, 0, 255))\n",
    "  f = BytesIO()\n",
    "  return PIL.Image.fromarray(a)\n",
    "\n",
    "#@tf.function\n",
    "def mandelbrot_helper(grid_c, current_values, counts,cycles):\n",
    "  \n",
    "  for i in range(cycles):\n",
    "    temp = current_values*current_values + grid_c\n",
    "    not_diverged = tf.abs(temp) < 4\n",
    "    current_values.assign(temp),\n",
    "    counts.assign_add(tf.cast(not_diverged, tf.float32))\n",
    "\n",
    "def mandelbrot(render_size,center,zoom,cycles):\n",
    "  f = zoom/render_size[0]\n",
    "  real_start = center[0]-(render_size[0]/2)*f\n",
    "  real_end = real_start + render_size[0]*f \n",
    "  imag_start = center[1]-(render_size[1]/2)*f\n",
    "  imag_end = imag_start + render_size[1]*f \n",
    "\n",
    "  real_range = tf.range(real_start,real_end,f,dtype=tf.float64)\n",
    "  imag_range = tf.range(imag_start,imag_end,f,dtype=tf.float64)\n",
    "  real, imag = tf.meshgrid(real_range,imag_range)\n",
    "  grid_c = tf.constant(tf.complex(real, imag))\n",
    "  current_values = tf.Variable(grid_c)\n",
    "  counts = tf.Variable(tf.zeros_like(grid_c, tf.float32))\n",
    "\n",
    "  mandelbrot_helper(grid_c, current_values,counts,cycles)\n",
    "  return counts.numpy()"
   ]
  },
  {
   "cell_type": "markdown",
   "metadata": {
    "id": "iUIw04vRCmc1"
   },
   "source": [
    "With the above code defined, we can now calculate and render a Mandlebrot plot."
   ]
  },
  {
   "cell_type": "code",
   "execution_count": null,
   "metadata": {
    "colab": {
     "base_uri": "https://localhost:8080/",
     "height": 515
    },
    "id": "9MZLfaYpCaO2",
    "outputId": "8b045029-3c57-46c8-8e79-cb63c2d52949"
   },
   "outputs": [
    {
     "name": "stdout",
     "output_type": "stream",
     "text": [
      "(640, 480)\n"
     ]
    },
    {
     "data": {
      "image/png": "[encoded data removed]",
      "text/plain": [
       "<PIL.Image.Image image mode=RGB size=640x480 at 0x7F7A7BD809D0>"
      ]
     },
     "execution_count": 7,
     "metadata": {},
     "output_type": "execute_result"
    }
   ],
   "source": [
    "counts = mandelbrot(\n",
    "    #render_size=(3840,2160), # 4K\n",
    "    #render_size=(1920,1080), # HD\n",
    "    render_size=(640,480),\n",
    "    center=(-0.5,0),\n",
    "    zoom=4,\n",
    "    cycles=200\n",
    ")  \n",
    "img = render(counts)\n",
    "print(img.size)\n",
    "img\n",
    "\n",
    "#img.save(\"test.png\")"
   ]
  },
  {
   "cell_type": "markdown",
   "metadata": {
    "id": "ZeWypKgGCtiR"
   },
   "source": [
    "Mandlebrot rendering programs are both simple and infinitely complex at the same time. This view shows the entire Mandlebrot universe simultaneously, as a view completely zoomed out. However, if you zoom in on any non-black portion of the plot, you will find infinite hidden complexity. \n",
    "\n",
    "## Introduction to Keras\n",
    "\n",
    "[Keras](https://keras.io/) is a layer on top of Tensorflow that makes it much easier to create neural networks. Rather than define the graphs, as you see above, you set the individual layers of the network with a much more high-level API. Unless you are researching entirely new structures of deep neural networks, it is unlikely that you need to program TensorFlow directly.  \n",
    "\n",
    "**For this class, we will usually use TensorFlow through Keras, rather than direct TensorFlow**\n",
    "\n",
    "## Simple TensorFlow Regression: MPG\n",
    "\n",
    "This example shows how to encode the MPG dataset for regression and predict values. We will see if we can predict the miles per gallon (MPG) for a car based on the car's weight, cylinders, engine size, and other features.\n"
   ]
  },
  {
   "cell_type": "code",
   "execution_count": null,
   "metadata": {
    "colab": {
     "base_uri": "https://localhost:8080/"
    },
    "id": "bmb3cFrUCtiR",
    "outputId": "7afe0626-d793-42c2-e8e2-a9c64a4e580f"
   },
   "outputs": [
    {
     "name": "stdout",
     "output_type": "stream",
     "text": [
      "Epoch 1/100\n",
      "13/13 - 1s - loss: 4316.6265 - 1s/epoch - 108ms/step\n",
      "Epoch 2/100\n",
      "13/13 - 0s - loss: 1053.9304 - 42ms/epoch - 3ms/step\n",
      "Epoch 3/100\n",
      "13/13 - 0s - loss: 400.8871 - 40ms/epoch - 3ms/step\n",
      "Epoch 4/100\n",
      "13/13 - 0s - loss: 158.8711 - 70ms/epoch - 5ms/step\n",
      "Epoch 5/100\n",
      "13/13 - 0s - loss: 122.4334 - 52ms/epoch - 4ms/step\n",
      "Epoch 6/100\n",
      "13/13 - 0s - loss: 112.2178 - 83ms/epoch - 6ms/step\n",
      "Epoch 7/100\n",
      "13/13 - 0s - loss: 109.5928 - 52ms/epoch - 4ms/step\n",
      "Epoch 8/100\n",
      "13/13 - 0s - loss: 107.0727 - 40ms/epoch - 3ms/step\n",
      "Epoch 9/100\n",
      "13/13 - 0s - loss: 105.3503 - 58ms/epoch - 4ms/step\n",
      "Epoch 10/100\n",
      "13/13 - 0s - loss: 103.4682 - 54ms/epoch - 4ms/step\n",
      "Epoch 11/100\n",
      "13/13 - 0s - loss: 102.2661 - 50ms/epoch - 4ms/step\n",
      "Epoch 12/100\n",
      "13/13 - 0s - loss: 100.2303 - 54ms/epoch - 4ms/step\n",
      "Epoch 13/100\n",
      "13/13 - 0s - loss: 99.7207 - 64ms/epoch - 5ms/step\n",
      "Epoch 14/100\n",
      "13/13 - 0s - loss: 96.4024 - 88ms/epoch - 7ms/step\n",
      "Epoch 15/100\n",
      "13/13 - 0s - loss: 93.2158 - 71ms/epoch - 5ms/step\n",
      "Epoch 16/100\n",
      "13/13 - 0s - loss: 89.9550 - 62ms/epoch - 5ms/step\n",
      "Epoch 17/100\n",
      "13/13 - 0s - loss: 88.2846 - 86ms/epoch - 7ms/step\n",
      "Epoch 18/100\n",
      "13/13 - 0s - loss: 86.3914 - 67ms/epoch - 5ms/step\n",
      "Epoch 19/100\n",
      "13/13 - 0s - loss: 84.1276 - 50ms/epoch - 4ms/step\n",
      "Epoch 20/100\n",
      "13/13 - 0s - loss: 84.8196 - 45ms/epoch - 3ms/step\n",
      "Epoch 21/100\n",
      "13/13 - 0s - loss: 84.3392 - 46ms/epoch - 4ms/step\n",
      "Epoch 22/100\n",
      "13/13 - 0s - loss: 79.5398 - 45ms/epoch - 3ms/step\n",
      "Epoch 23/100\n",
      "13/13 - 0s - loss: 77.0899 - 36ms/epoch - 3ms/step\n",
      "Epoch 24/100\n",
      "13/13 - 0s - loss: 75.8441 - 45ms/epoch - 3ms/step\n",
      "Epoch 25/100\n",
      "13/13 - 0s - loss: 75.8792 - 47ms/epoch - 4ms/step\n",
      "Epoch 26/100\n",
      "13/13 - 0s - loss: 73.5816 - 41ms/epoch - 3ms/step\n",
      "Epoch 27/100\n",
      "13/13 - 0s - loss: 74.1624 - 42ms/epoch - 3ms/step\n",
      "Epoch 28/100\n",
      "13/13 - 0s - loss: 73.7725 - 92ms/epoch - 7ms/step\n",
      "Epoch 29/100\n",
      "13/13 - 0s - loss: 69.7022 - 79ms/epoch - 6ms/step\n",
      "Epoch 30/100\n",
      "13/13 - 0s - loss: 70.4042 - 45ms/epoch - 3ms/step\n",
      "Epoch 31/100\n",
      "13/13 - 0s - loss: 66.2524 - 50ms/epoch - 4ms/step\n",
      "Epoch 32/100\n",
      "13/13 - 0s - loss: 65.7853 - 36ms/epoch - 3ms/step\n",
      "Epoch 33/100\n",
      "13/13 - 0s - loss: 63.3211 - 39ms/epoch - 3ms/step\n",
      "Epoch 34/100\n",
      "13/13 - 0s - loss: 63.5420 - 54ms/epoch - 4ms/step\n",
      "Epoch 35/100\n",
      "13/13 - 0s - loss: 62.8602 - 42ms/epoch - 3ms/step\n",
      "Epoch 36/100\n",
      "13/13 - 0s - loss: 60.7109 - 72ms/epoch - 6ms/step\n",
      "Epoch 37/100\n",
      "13/13 - 0s - loss: 59.4063 - 111ms/epoch - 9ms/step\n",
      "Epoch 38/100\n",
      "13/13 - 0s - loss: 59.1309 - 50ms/epoch - 4ms/step\n",
      "Epoch 39/100\n",
      "13/13 - 0s - loss: 59.9115 - 40ms/epoch - 3ms/step\n",
      "Epoch 40/100\n",
      "13/13 - 0s - loss: 57.2979 - 40ms/epoch - 3ms/step\n",
      "Epoch 41/100\n",
      "13/13 - 0s - loss: 55.4729 - 39ms/epoch - 3ms/step\n",
      "Epoch 42/100\n",
      "13/13 - 0s - loss: 54.6452 - 55ms/epoch - 4ms/step\n",
      "Epoch 43/100\n",
      "13/13 - 0s - loss: 55.8971 - 60ms/epoch - 5ms/step\n",
      "Epoch 44/100\n",
      "13/13 - 0s - loss: 53.4345 - 54ms/epoch - 4ms/step\n",
      "Epoch 45/100\n",
      "13/13 - 0s - loss: 52.4441 - 71ms/epoch - 5ms/step\n",
      "Epoch 46/100\n",
      "13/13 - 0s - loss: 55.9549 - 47ms/epoch - 4ms/step\n",
      "Epoch 47/100\n",
      "13/13 - 0s - loss: 56.5379 - 42ms/epoch - 3ms/step\n",
      "Epoch 48/100\n",
      "13/13 - 0s - loss: 51.9417 - 69ms/epoch - 5ms/step\n",
      "Epoch 49/100\n",
      "13/13 - 0s - loss: 50.0791 - 44ms/epoch - 3ms/step\n",
      "Epoch 50/100\n",
      "13/13 - 0s - loss: 47.1980 - 40ms/epoch - 3ms/step\n",
      "Epoch 51/100\n",
      "13/13 - 0s - loss: 48.7865 - 49ms/epoch - 4ms/step\n",
      "Epoch 52/100\n",
      "13/13 - 0s - loss: 47.3768 - 47ms/epoch - 4ms/step\n",
      "Epoch 53/100\n",
      "13/13 - 0s - loss: 46.3470 - 68ms/epoch - 5ms/step\n",
      "Epoch 54/100\n",
      "13/13 - 0s - loss: 45.0476 - 39ms/epoch - 3ms/step\n",
      "Epoch 55/100\n",
      "13/13 - 0s - loss: 43.7386 - 51ms/epoch - 4ms/step\n",
      "Epoch 56/100\n",
      "13/13 - 0s - loss: 44.1500 - 36ms/epoch - 3ms/step\n",
      "Epoch 57/100\n",
      "13/13 - 0s - loss: 42.9593 - 34ms/epoch - 3ms/step\n",
      "Epoch 58/100\n",
      "13/13 - 0s - loss: 42.6250 - 61ms/epoch - 5ms/step\n",
      "Epoch 59/100\n",
      "13/13 - 0s - loss: 42.3621 - 49ms/epoch - 4ms/step\n",
      "Epoch 60/100\n",
      "13/13 - 0s - loss: 40.9266 - 37ms/epoch - 3ms/step\n",
      "Epoch 61/100\n",
      "13/13 - 0s - loss: 40.4965 - 44ms/epoch - 3ms/step\n",
      "Epoch 62/100\n",
      "13/13 - 0s - loss: 42.0424 - 48ms/epoch - 4ms/step\n",
      "Epoch 63/100\n",
      "13/13 - 0s - loss: 42.4499 - 56ms/epoch - 4ms/step\n",
      "Epoch 64/100\n",
      "13/13 - 0s - loss: 46.3163 - 40ms/epoch - 3ms/step\n",
      "Epoch 65/100\n",
      "13/13 - 0s - loss: 40.8322 - 37ms/epoch - 3ms/step\n",
      "Epoch 66/100\n",
      "13/13 - 0s - loss: 37.7943 - 36ms/epoch - 3ms/step\n",
      "Epoch 67/100\n",
      "13/13 - 0s - loss: 37.8814 - 44ms/epoch - 3ms/step\n",
      "Epoch 68/100\n",
      "13/13 - 0s - loss: 35.4310 - 37ms/epoch - 3ms/step\n",
      "Epoch 69/100\n",
      "13/13 - 0s - loss: 36.7675 - 37ms/epoch - 3ms/step\n",
      "Epoch 70/100\n",
      "13/13 - 0s - loss: 35.9195 - 39ms/epoch - 3ms/step\n",
      "Epoch 71/100\n",
      "13/13 - 0s - loss: 33.5149 - 41ms/epoch - 3ms/step\n",
      "Epoch 72/100\n",
      "13/13 - 0s - loss: 32.8361 - 39ms/epoch - 3ms/step\n",
      "Epoch 73/100\n",
      "13/13 - 0s - loss: 32.3207 - 36ms/epoch - 3ms/step\n",
      "Epoch 74/100\n",
      "13/13 - 0s - loss: 31.6296 - 37ms/epoch - 3ms/step\n",
      "Epoch 75/100\n",
      "13/13 - 0s - loss: 32.2759 - 44ms/epoch - 3ms/step\n",
      "Epoch 76/100\n",
      "13/13 - 0s - loss: 30.4593 - 38ms/epoch - 3ms/step\n",
      "Epoch 77/100\n",
      "13/13 - 0s - loss: 32.0352 - 43ms/epoch - 3ms/step\n",
      "Epoch 78/100\n",
      "13/13 - 0s - loss: 31.4580 - 52ms/epoch - 4ms/step\n",
      "Epoch 79/100\n",
      "13/13 - 0s - loss: 29.0144 - 48ms/epoch - 4ms/step\n",
      "Epoch 80/100\n",
      "13/13 - 0s - loss: 28.9435 - 47ms/epoch - 4ms/step\n",
      "Epoch 81/100\n",
      "13/13 - 0s - loss: 29.9654 - 65ms/epoch - 5ms/step\n",
      "Epoch 82/100\n",
      "13/13 - 0s - loss: 28.3907 - 47ms/epoch - 4ms/step\n",
      "Epoch 83/100\n",
      "13/13 - 0s - loss: 27.7009 - 43ms/epoch - 3ms/step\n",
      "Epoch 84/100\n",
      "13/13 - 0s - loss: 30.1552 - 57ms/epoch - 4ms/step\n",
      "Epoch 85/100\n",
      "13/13 - 0s - loss: 27.8310 - 65ms/epoch - 5ms/step\n",
      "Epoch 86/100\n",
      "13/13 - 0s - loss: 26.1057 - 46ms/epoch - 4ms/step\n",
      "Epoch 87/100\n",
      "13/13 - 0s - loss: 25.7254 - 37ms/epoch - 3ms/step\n",
      "Epoch 88/100\n",
      "13/13 - 0s - loss: 26.4181 - 43ms/epoch - 3ms/step\n",
      "Epoch 89/100\n",
      "13/13 - 0s - loss: 26.9024 - 46ms/epoch - 4ms/step\n",
      "Epoch 90/100\n",
      "13/13 - 0s - loss: 24.3307 - 62ms/epoch - 5ms/step\n",
      "Epoch 91/100\n",
      "13/13 - 0s - loss: 24.5644 - 48ms/epoch - 4ms/step\n",
      "Epoch 92/100\n",
      "13/13 - 0s - loss: 24.2650 - 54ms/epoch - 4ms/step\n",
      "Epoch 93/100\n",
      "13/13 - 0s - loss: 24.7381 - 58ms/epoch - 4ms/step\n",
      "Epoch 94/100\n",
      "13/13 - 0s - loss: 23.8608 - 46ms/epoch - 4ms/step\n",
      "Epoch 95/100\n",
      "13/13 - 0s - loss: 22.8117 - 55ms/epoch - 4ms/step\n",
      "Epoch 96/100\n",
      "13/13 - 0s - loss: 22.2542 - 55ms/epoch - 4ms/step\n",
      "Epoch 97/100\n",
      "13/13 - 0s - loss: 21.4920 - 56ms/epoch - 4ms/step\n",
      "Epoch 98/100\n",
      "13/13 - 0s - loss: 21.7629 - 40ms/epoch - 3ms/step\n",
      "Epoch 99/100\n",
      "13/13 - 0s - loss: 21.0175 - 42ms/epoch - 3ms/step\n",
      "Epoch 100/100\n",
      "13/13 - 0s - loss: 20.8079 - 32ms/epoch - 2ms/step\n"
     ]
    },
    {
     "data": {
      "text/plain": [
       "<keras.callbacks.History at 0x7f7a748518d0>"
      ]
     },
     "execution_count": 8,
     "metadata": {},
     "output_type": "execute_result"
    }
   ],
   "source": [
    "from tensorflow.keras.models import Sequential\n",
    "from tensorflow.keras.layers import Dense, Activation\n",
    "import pandas as pd\n",
    "import io\n",
    "import os\n",
    "import requests\n",
    "import numpy as np\n",
    "from sklearn import metrics\n",
    "\n",
    "df = pd.read_csv(\n",
    "    \"https://data.heatonresearch.com/data/t81-558/auto-mpg.csv\", \n",
    "    na_values=['NA', '?'])\n",
    "\n",
    "cars = df['name']\n",
    "\n",
    "# Handle missing value\n",
    "df['horsepower'] = df['horsepower'].fillna(df['horsepower'].median())\n",
    "\n",
    "# Pandas to Numpy\n",
    "x = df[['cylinders', 'displacement', 'horsepower', 'weight',\n",
    "       'acceleration', 'year', 'origin']].values\n",
    "y = df['mpg'].values # regression\n",
    "\n",
    "# Build the neural network\n",
    "model = Sequential()\n",
    "model.add(Dense(25, input_dim=x.shape[1], activation='relu')) # Hidden 1\n",
    "model.add(Dense(10, activation='relu')) # Hidden 2\n",
    "model.add(Dense(1)) # Output\n",
    "model.compile(loss='mean_squared_error', optimizer='adam')\n",
    "model.fit(x,y,verbose=2,epochs=100)"
   ]
  },
  {
   "cell_type": "markdown",
   "metadata": {
    "id": "82O2rvqiCtiR"
   },
   "source": [
    "## Introduction to Neural Network Hyperparameters\n",
    "\n",
    "If you look at the above code, you will see that the neural network contains four layers. The first layer is the input layer because it contains the **input_dim** parameter that the programmer sets to be the number of inputs the dataset has. The network needs one input neuron for every column in the data set (including dummy variables).  \n",
    "\n",
    "There are also several hidden layers, with 25 and 10 neurons each. You might be wondering how the programmer chose these numbers. Selecting a hidden neuron structure is one of the most common questions about neural networks. Unfortunately, there is no right answer. These are hyperparameters. They are settings that can affect neural network performance, yet there are no clearly defined means of setting them.\n",
    "\n",
    "In general, more hidden neurons mean more capability to fit complex problems. However, too many neurons can lead to overfitting and lengthy training times. Too few can lead to underfitting the problem and will sacrifice accuracy. Also, how many layers you have is another hyperparameter. In general, more layers allow the neural network to perform more of its feature engineering and data preprocessing. But this also comes at the expense of training times and the risk of overfitting. In general, you will see that neuron counts start larger near the input layer and tend to shrink towards the output layer in a triangular fashion. \n",
    "\n",
    "Some techniques use machine learning to optimize these values. These will be discussed in [Module 8.3](t81_558_class_08_3_keras_hyperparameters.ipynb).\n",
    "\n",
    "## Controlling the Amount of Output\n",
    "\n",
    "The program produces one line of output for each training epoch. You can eliminate this output by setting the verbose setting of the fit command:\n",
    "\n",
    "* **verbose=0** - No progress output (use with Jupyter if you do not want output).\n",
    "* **verbose=1** - Display progress bar, does not work well with Jupyter.\n",
    "* **verbose=2** - Summary progress output (use with Jupyter if you want to know the loss at each epoch).\n",
    "\n",
    "## Regression Prediction\n",
    "\n",
    "Next, we will perform actual predictions. The program assigns these predictions to the **pred** variable. These are all MPG predictions from the neural network. Notice that this is a 2D array? You can always see the dimensions of what Keras returns by printing out **pred.shape**. Neural networks can return multiple values, so the result is always an array. Here the neural network only returns one value per prediction (there are 398 cars, so 398 predictions). However, a 2D range is needed because the neural network has the potential of returning more than one value.   "
   ]
  },
  {
   "cell_type": "code",
   "execution_count": null,
   "metadata": {
    "colab": {
     "base_uri": "https://localhost:8080/"
    },
    "id": "HbErLyX_CtiR",
    "outputId": "9173c10d-d0e9-43c0-9bb7-cb14d082e97a"
   },
   "outputs": [
    {
     "name": "stdout",
     "output_type": "stream",
     "text": [
      "Shape: (398, 1)\n",
      "[[13.070258 ]\n",
      " [10.618503 ]\n",
      " [12.105414 ]\n",
      " [13.132547 ]\n",
      " [13.046249 ]\n",
      " [ 6.5326967]\n",
      " [ 4.8309555]\n",
      " [ 5.553785 ]\n",
      " [ 5.0463076]\n",
      " [ 7.9017887]]\n"
     ]
    }
   ],
   "source": [
    "pred = model.predict(x)\n",
    "print(f\"Shape: {pred.shape}\")\n",
    "print(pred[0:10])"
   ]
  },
  {
   "cell_type": "markdown",
   "metadata": {
    "id": "jk_lWnScCtiR"
   },
   "source": [
    "We would like to see how good these predictions are.  We know the correct MPG for each car so we can measure how close the neural network was."
   ]
  },
  {
   "cell_type": "code",
   "execution_count": null,
   "metadata": {
    "colab": {
     "base_uri": "https://localhost:8080/"
    },
    "id": "vrY0Vs9oCtiR",
    "outputId": "f1c6ef77-b636-4ac0-df4d-0439977eb6eb"
   },
   "outputs": [
    {
     "name": "stdout",
     "output_type": "stream",
     "text": [
      "Final score (RMSE): 4.615160313747705\n"
     ]
    }
   ],
   "source": [
    "# Measure RMSE error.  RMSE is common for regression.\n",
    "score = np.sqrt(metrics.mean_squared_error(pred,y))\n",
    "print(f\"Final score (RMSE): {score}\")"
   ]
  },
  {
   "cell_type": "markdown",
   "metadata": {
    "id": "i3yqZwhnCtiS"
   },
   "source": [
    "The number printed above is the average number of predictions above or below the expected output. We can also print out the first ten cars with predictions and actual MPG."
   ]
  },
  {
   "cell_type": "code",
   "execution_count": null,
   "metadata": {
    "colab": {
     "base_uri": "https://localhost:8080/"
    },
    "id": "Tl7hv8NnCtiS",
    "outputId": "a4dd79ee-8af5-4727-b595-f938814266d9"
   },
   "outputs": [
    {
     "name": "stdout",
     "output_type": "stream",
     "text": [
      "1. Car name: chevrolet chevelle malibu, MPG: 18.0, predicted MPG: [13.070258]\n",
      "2. Car name: buick skylark 320, MPG: 15.0, predicted MPG: [10.618503]\n",
      "3. Car name: plymouth satellite, MPG: 18.0, predicted MPG: [12.105414]\n",
      "4. Car name: amc rebel sst, MPG: 16.0, predicted MPG: [13.132547]\n",
      "5. Car name: ford torino, MPG: 17.0, predicted MPG: [13.046249]\n",
      "6. Car name: ford galaxie 500, MPG: 15.0, predicted MPG: [6.5326967]\n",
      "7. Car name: chevrolet impala, MPG: 14.0, predicted MPG: [4.8309555]\n",
      "8. Car name: plymouth fury iii, MPG: 14.0, predicted MPG: [5.553785]\n",
      "9. Car name: pontiac catalina, MPG: 14.0, predicted MPG: [5.0463076]\n",
      "10. Car name: amc ambassador dpl, MPG: 15.0, predicted MPG: [7.9017887]\n"
     ]
    }
   ],
   "source": [
    "# Sample predictions\n",
    "for i in range(10):\n",
    "    print(f\"{i+1}. Car name: {cars[i]}, MPG: {y[i]}, \" \n",
    "          + f\"predicted MPG: {pred[i]}\")"
   ]
  },
  {
   "cell_type": "markdown",
   "metadata": {
    "id": "U_dpgVtfCtiS"
   },
   "source": [
    "## Simple TensorFlow Classification: Iris\n",
    "\n",
    "Classification is how a neural network attempts to classify the input into one or more classes.  The simplest way of evaluating a classification network is to track the percentage of training set items classified incorrectly.  We typically score human results in this manner.  For example, you might have taken multiple-choice exams in school in which you had to shade in a bubble for choices A, B, C, or D.  If you chose the wrong letter on a 10-question exam, you would earn a 90%.  In the same way, we can grade computers; however, most classification algorithms do not merely choose A, B, C, or D.  Computers typically report a classification as their percent confidence in each class.  Figure 3.EXAM shows how a computer and a human might respond to question number 1 on an exam.\n",
    "\n",
    "**Figure 3.EXAM: Classification Neural Network Output**\n",
    "![Classification Neural Network Output](images/class-multi-choice.png \"Classification Neural Network Output\")\n",
    "\n",
    "As you can see, the human test taker marked the first question as \"B.\" However, the computer test taker had an 80% (0.8) confidence in \"B\" and was also somewhat sure with 10% (0.1) on \"A.\" The computer then distributed the remaining points to the other two.  In the simplest sense, the machine would get 80% of the score for this question if the correct answer were \"B.\" The computer would get only 5% (0.05) of the points if the correct answer were \"D.\" \n",
    "\n",
    "We previously saw how to train a neural network to predict the MPG of a car. Based on four measurements, we will now see how to predict a class, such as the type of iris flower. The code to classify iris flowers is similar to MPG; however, there are several important differences:\n",
    "\n",
    "* The output neuron count matches the number of classes (in the case of Iris, 3).\n",
    "* The Softmax transfer function is utilized by the output layer.* The loss function is cross entropy."
   ]
  },
  {
   "cell_type": "code",
   "execution_count": null,
   "metadata": {
    "colab": {
     "base_uri": "https://localhost:8080/"
    },
    "id": "aLp65T9JCtiS",
    "outputId": "63ff7475-c714-4b15-9469-a93db0f96b2c"
   },
   "outputs": [
    {
     "name": "stdout",
     "output_type": "stream",
     "text": [
      "Epoch 1/100\n",
      "5/5 - 1s - loss: 2.0606 - 923ms/epoch - 185ms/step\n",
      "Epoch 2/100\n",
      "5/5 - 0s - loss: 1.4448 - 18ms/epoch - 4ms/step\n",
      "Epoch 3/100\n",
      "5/5 - 0s - loss: 1.0983 - 19ms/epoch - 4ms/step\n",
      "Epoch 4/100\n",
      "5/5 - 0s - loss: 0.9532 - 18ms/epoch - 4ms/step\n",
      "Epoch 5/100\n",
      "5/5 - 0s - loss: 0.9149 - 25ms/epoch - 5ms/step\n",
      "Epoch 6/100\n",
      "5/5 - 0s - loss: 0.8933 - 25ms/epoch - 5ms/step\n",
      "Epoch 7/100\n",
      "5/5 - 0s - loss: 0.8609 - 20ms/epoch - 4ms/step\n",
      "Epoch 8/100\n",
      "5/5 - 0s - loss: 0.8308 - 19ms/epoch - 4ms/step\n",
      "Epoch 9/100\n",
      "5/5 - 0s - loss: 0.8057 - 27ms/epoch - 5ms/step\n",
      "Epoch 10/100\n",
      "5/5 - 0s - loss: 0.7818 - 26ms/epoch - 5ms/step\n",
      "Epoch 11/100\n",
      "5/5 - 0s - loss: 0.7562 - 28ms/epoch - 6ms/step\n",
      "Epoch 12/100\n",
      "5/5 - 0s - loss: 0.7323 - 30ms/epoch - 6ms/step\n",
      "Epoch 13/100\n",
      "5/5 - 0s - loss: 0.7086 - 20ms/epoch - 4ms/step\n",
      "Epoch 14/100\n",
      "5/5 - 0s - loss: 0.6855 - 21ms/epoch - 4ms/step\n",
      "Epoch 15/100\n",
      "5/5 - 0s - loss: 0.6613 - 22ms/epoch - 4ms/step\n",
      "Epoch 16/100\n",
      "5/5 - 0s - loss: 0.6346 - 40ms/epoch - 8ms/step\n",
      "Epoch 17/100\n",
      "5/5 - 0s - loss: 0.6082 - 28ms/epoch - 6ms/step\n",
      "Epoch 18/100\n",
      "5/5 - 0s - loss: 0.5868 - 22ms/epoch - 4ms/step\n",
      "Epoch 19/100\n",
      "5/5 - 0s - loss: 0.5644 - 21ms/epoch - 4ms/step\n",
      "Epoch 20/100\n",
      "5/5 - 0s - loss: 0.5441 - 20ms/epoch - 4ms/step\n",
      "Epoch 21/100\n",
      "5/5 - 0s - loss: 0.5228 - 21ms/epoch - 4ms/step\n",
      "Epoch 22/100\n",
      "5/5 - 0s - loss: 0.5025 - 19ms/epoch - 4ms/step\n",
      "Epoch 23/100\n",
      "5/5 - 0s - loss: 0.4853 - 18ms/epoch - 4ms/step\n",
      "Epoch 24/100\n",
      "5/5 - 0s - loss: 0.4673 - 20ms/epoch - 4ms/step\n",
      "Epoch 25/100\n",
      "5/5 - 0s - loss: 0.4523 - 20ms/epoch - 4ms/step\n",
      "Epoch 26/100\n",
      "5/5 - 0s - loss: 0.4355 - 20ms/epoch - 4ms/step\n",
      "Epoch 27/100\n",
      "5/5 - 0s - loss: 0.4210 - 20ms/epoch - 4ms/step\n",
      "Epoch 28/100\n",
      "5/5 - 0s - loss: 0.4071 - 21ms/epoch - 4ms/step\n",
      "Epoch 29/100\n",
      "5/5 - 0s - loss: 0.3952 - 21ms/epoch - 4ms/step\n",
      "Epoch 30/100\n",
      "5/5 - 0s - loss: 0.3828 - 29ms/epoch - 6ms/step\n",
      "Epoch 31/100\n",
      "5/5 - 0s - loss: 0.3714 - 28ms/epoch - 6ms/step\n",
      "Epoch 32/100\n",
      "5/5 - 0s - loss: 0.3639 - 20ms/epoch - 4ms/step\n",
      "Epoch 33/100\n",
      "5/5 - 0s - loss: 0.3508 - 20ms/epoch - 4ms/step\n",
      "Epoch 34/100\n",
      "5/5 - 0s - loss: 0.3420 - 40ms/epoch - 8ms/step\n",
      "Epoch 35/100\n",
      "5/5 - 0s - loss: 0.3326 - 21ms/epoch - 4ms/step\n",
      "Epoch 36/100\n",
      "5/5 - 0s - loss: 0.3229 - 31ms/epoch - 6ms/step\n",
      "Epoch 37/100\n",
      "5/5 - 0s - loss: 0.3156 - 22ms/epoch - 4ms/step\n",
      "Epoch 38/100\n",
      "5/5 - 0s - loss: 0.3070 - 22ms/epoch - 4ms/step\n",
      "Epoch 39/100\n",
      "5/5 - 0s - loss: 0.2990 - 24ms/epoch - 5ms/step\n",
      "Epoch 40/100\n",
      "5/5 - 0s - loss: 0.2930 - 31ms/epoch - 6ms/step\n",
      "Epoch 41/100\n",
      "5/5 - 0s - loss: 0.2841 - 25ms/epoch - 5ms/step\n",
      "Epoch 42/100\n",
      "5/5 - 0s - loss: 0.2761 - 23ms/epoch - 5ms/step\n",
      "Epoch 43/100\n",
      "5/5 - 0s - loss: 0.2720 - 24ms/epoch - 5ms/step\n",
      "Epoch 44/100\n",
      "5/5 - 0s - loss: 0.2632 - 23ms/epoch - 5ms/step\n",
      "Epoch 45/100\n",
      "5/5 - 0s - loss: 0.2569 - 26ms/epoch - 5ms/step\n",
      "Epoch 46/100\n",
      "5/5 - 0s - loss: 0.2519 - 23ms/epoch - 5ms/step\n",
      "Epoch 47/100\n",
      "5/5 - 0s - loss: 0.2445 - 24ms/epoch - 5ms/step\n",
      "Epoch 48/100\n",
      "5/5 - 0s - loss: 0.2395 - 24ms/epoch - 5ms/step\n",
      "Epoch 49/100\n",
      "5/5 - 0s - loss: 0.2329 - 23ms/epoch - 5ms/step\n",
      "Epoch 50/100\n",
      "5/5 - 0s - loss: 0.2271 - 23ms/epoch - 5ms/step\n",
      "Epoch 51/100\n",
      "5/5 - 0s - loss: 0.2220 - 22ms/epoch - 4ms/step\n",
      "Epoch 52/100\n",
      "5/5 - 0s - loss: 0.2175 - 23ms/epoch - 5ms/step\n",
      "Epoch 53/100\n",
      "5/5 - 0s - loss: 0.2115 - 22ms/epoch - 4ms/step\n",
      "Epoch 54/100\n",
      "5/5 - 0s - loss: 0.2094 - 22ms/epoch - 4ms/step\n",
      "Epoch 55/100\n",
      "5/5 - 0s - loss: 0.2045 - 33ms/epoch - 7ms/step\n",
      "Epoch 56/100\n",
      "5/5 - 0s - loss: 0.1996 - 34ms/epoch - 7ms/step\n",
      "Epoch 57/100\n",
      "5/5 - 0s - loss: 0.1943 - 23ms/epoch - 5ms/step\n",
      "Epoch 58/100\n",
      "5/5 - 0s - loss: 0.1898 - 51ms/epoch - 10ms/step\n",
      "Epoch 59/100\n",
      "5/5 - 0s - loss: 0.1855 - 27ms/epoch - 5ms/step\n",
      "Epoch 60/100\n",
      "5/5 - 0s - loss: 0.1823 - 28ms/epoch - 6ms/step\n",
      "Epoch 61/100\n",
      "5/5 - 0s - loss: 0.1799 - 22ms/epoch - 4ms/step\n",
      "Epoch 62/100\n",
      "5/5 - 0s - loss: 0.1746 - 30ms/epoch - 6ms/step\n",
      "Epoch 63/100\n",
      "5/5 - 0s - loss: 0.1715 - 23ms/epoch - 5ms/step\n",
      "Epoch 64/100\n",
      "5/5 - 0s - loss: 0.1674 - 39ms/epoch - 8ms/step\n",
      "Epoch 65/100\n",
      "5/5 - 0s - loss: 0.1639 - 21ms/epoch - 4ms/step\n",
      "Epoch 66/100\n",
      "5/5 - 0s - loss: 0.1611 - 28ms/epoch - 6ms/step\n",
      "Epoch 67/100\n",
      "5/5 - 0s - loss: 0.1587 - 23ms/epoch - 5ms/step\n",
      "Epoch 68/100\n",
      "5/5 - 0s - loss: 0.1554 - 17ms/epoch - 3ms/step\n",
      "Epoch 69/100\n",
      "5/5 - 0s - loss: 0.1517 - 19ms/epoch - 4ms/step\n",
      "Epoch 70/100\n",
      "5/5 - 0s - loss: 0.1503 - 21ms/epoch - 4ms/step\n",
      "Epoch 71/100\n",
      "5/5 - 0s - loss: 0.1477 - 33ms/epoch - 7ms/step\n",
      "Epoch 72/100\n",
      "5/5 - 0s - loss: 0.1443 - 25ms/epoch - 5ms/step\n",
      "Epoch 73/100\n",
      "5/5 - 0s - loss: 0.1418 - 26ms/epoch - 5ms/step\n",
      "Epoch 74/100\n",
      "5/5 - 0s - loss: 0.1399 - 36ms/epoch - 7ms/step\n",
      "Epoch 75/100\n",
      "5/5 - 0s - loss: 0.1384 - 20ms/epoch - 4ms/step\n",
      "Epoch 76/100\n",
      "5/5 - 0s - loss: 0.1351 - 21ms/epoch - 4ms/step\n",
      "Epoch 77/100\n",
      "5/5 - 0s - loss: 0.1355 - 18ms/epoch - 4ms/step\n",
      "Epoch 78/100\n",
      "5/5 - 0s - loss: 0.1321 - 19ms/epoch - 4ms/step\n",
      "Epoch 79/100\n",
      "5/5 - 0s - loss: 0.1312 - 17ms/epoch - 3ms/step\n",
      "Epoch 80/100\n",
      "5/5 - 0s - loss: 0.1283 - 19ms/epoch - 4ms/step\n",
      "Epoch 81/100\n",
      "5/5 - 0s - loss: 0.1272 - 19ms/epoch - 4ms/step\n",
      "Epoch 82/100\n",
      "5/5 - 0s - loss: 0.1254 - 18ms/epoch - 4ms/step\n",
      "Epoch 83/100\n",
      "5/5 - 0s - loss: 0.1212 - 23ms/epoch - 5ms/step\n",
      "Epoch 84/100\n",
      "5/5 - 0s - loss: 0.1204 - 18ms/epoch - 4ms/step\n",
      "Epoch 85/100\n",
      "5/5 - 0s - loss: 0.1192 - 19ms/epoch - 4ms/step\n",
      "Epoch 86/100\n",
      "5/5 - 0s - loss: 0.1170 - 18ms/epoch - 4ms/step\n",
      "Epoch 87/100\n",
      "5/5 - 0s - loss: 0.1150 - 19ms/epoch - 4ms/step\n",
      "Epoch 88/100\n",
      "5/5 - 0s - loss: 0.1145 - 21ms/epoch - 4ms/step\n",
      "Epoch 89/100\n",
      "5/5 - 0s - loss: 0.1129 - 20ms/epoch - 4ms/step\n",
      "Epoch 90/100\n",
      "5/5 - 0s - loss: 0.1119 - 19ms/epoch - 4ms/step\n",
      "Epoch 91/100\n",
      "5/5 - 0s - loss: 0.1089 - 44ms/epoch - 9ms/step\n",
      "Epoch 92/100\n",
      "5/5 - 0s - loss: 0.1106 - 50ms/epoch - 10ms/step\n",
      "Epoch 93/100\n",
      "5/5 - 0s - loss: 0.1068 - 34ms/epoch - 7ms/step\n",
      "Epoch 94/100\n",
      "5/5 - 0s - loss: 0.1085 - 34ms/epoch - 7ms/step\n",
      "Epoch 95/100\n",
      "5/5 - 0s - loss: 0.1053 - 28ms/epoch - 6ms/step\n",
      "Epoch 96/100\n",
      "5/5 - 0s - loss: 0.1072 - 31ms/epoch - 6ms/step\n",
      "Epoch 97/100\n",
      "5/5 - 0s - loss: 0.1005 - 34ms/epoch - 7ms/step\n",
      "Epoch 98/100\n",
      "5/5 - 0s - loss: 0.1047 - 36ms/epoch - 7ms/step\n",
      "Epoch 99/100\n",
      "5/5 - 0s - loss: 0.0984 - 42ms/epoch - 8ms/step\n",
      "Epoch 100/100\n",
      "5/5 - 0s - loss: 0.1024 - 31ms/epoch - 6ms/step\n"
     ]
    },
    {
     "data": {
      "text/plain": [
       "<keras.callbacks.History at 0x7f7a74758d90>"
      ]
     },
     "execution_count": 12,
     "metadata": {},
     "output_type": "execute_result"
    }
   ],
   "source": [
    "import pandas as pd\n",
    "import io\n",
    "import requests\n",
    "import numpy as np\n",
    "from sklearn import metrics\n",
    "from tensorflow.keras.models import Sequential\n",
    "from tensorflow.keras.layers import Dense, Activation\n",
    "from tensorflow.keras.callbacks import EarlyStopping\n",
    "\n",
    "df = pd.read_csv(\n",
    "    \"https://data.heatonresearch.com/data/t81-558/iris.csv\", \n",
    "    na_values=['NA', '?'])\n",
    "\n",
    "# Convert to numpy - Classification\n",
    "x = df[['sepal_l', 'sepal_w', 'petal_l', 'petal_w']].values\n",
    "dummies = pd.get_dummies(df['species']) # Classification\n",
    "species = dummies.columns\n",
    "y = dummies.values\n",
    "\n",
    "\n",
    "# Build neural network\n",
    "model = Sequential()\n",
    "model.add(Dense(50, input_dim=x.shape[1], activation='relu')) # Hidden 1\n",
    "model.add(Dense(25, activation='relu')) # Hidden 2\n",
    "model.add(Dense(y.shape[1],activation='softmax')) # Output\n",
    "\n",
    "model.compile(loss='categorical_crossentropy', optimizer='adam')\n",
    "model.fit(x,y,verbose=2,epochs=100)"
   ]
  },
  {
   "cell_type": "code",
   "execution_count": null,
   "metadata": {
    "colab": {
     "base_uri": "https://localhost:8080/"
    },
    "id": "QPM30WdBCtiS",
    "outputId": "455a6d0f-41f9-4e43-c538-6311a5c81299"
   },
   "outputs": [
    {
     "name": "stdout",
     "output_type": "stream",
     "text": [
      "Index(['Iris-setosa', 'Iris-versicolor', 'Iris-virginica'], dtype='object')\n"
     ]
    }
   ],
   "source": [
    "# Print out number of species found:\n",
    "\n",
    "print(species)"
   ]
  },
  {
   "cell_type": "markdown",
   "metadata": {
    "id": "dM8-xyDxCtiS"
   },
   "source": [
    "Now that you have a neural network trained, we would like to be able to use it. The following code makes use of our neural network. Exactly like before, we will generate predictions. Notice that three values come back for each of the 150 iris flowers. There were three types of iris (Iris-setosa, Iris-versicolor, and Iris-virginica).  "
   ]
  },
  {
   "cell_type": "code",
   "execution_count": null,
   "metadata": {
    "colab": {
     "base_uri": "https://localhost:8080/"
    },
    "id": "3YzlVpw-CtiS",
    "outputId": "7b664d3d-7092-44f9-b124-c3404da038c4"
   },
   "outputs": [
    {
     "name": "stdout",
     "output_type": "stream",
     "text": [
      "Shape: (150, 3)\n",
      "[[9.9478287e-01 5.2075940e-03 9.5348660e-06]\n",
      " [9.8996514e-01 1.0009427e-02 2.5472993e-05]\n",
      " [9.9217004e-01 7.8077433e-03 2.2259781e-05]\n",
      " [9.8900187e-01 1.0962254e-02 3.5841138e-05]\n",
      " [9.9483585e-01 5.1541878e-03 1.0017948e-05]\n",
      " [9.9543911e-01 4.5537245e-03 7.2729345e-06]\n",
      " [9.9191731e-01 8.0558369e-03 2.6869655e-05]\n",
      " [9.9353105e-01 6.4554708e-03 1.3498360e-05]\n",
      " [9.8614627e-01 1.3796916e-02 5.6765439e-05]\n",
      " [9.9109799e-01 8.8818911e-03 2.0043452e-05]]\n"
     ]
    }
   ],
   "source": [
    "pred = model.predict(x)\n",
    "print(f\"Shape: {pred.shape}\")\n",
    "print(pred[0:10])"
   ]
  },
  {
   "cell_type": "markdown",
   "metadata": {
    "id": "JCay-JrvCtiS"
   },
   "source": [
    "If you would like to turn of scientific notation, the following line can be used:"
   ]
  },
  {
   "cell_type": "code",
   "execution_count": null,
   "metadata": {
    "id": "nXZne7ZICtiS"
   },
   "outputs": [],
   "source": [
    "np.set_printoptions(suppress=True)"
   ]
  },
  {
   "cell_type": "markdown",
   "metadata": {
    "id": "nOvMqI7QCtiS"
   },
   "source": [
    "Now we see these values rounded up."
   ]
  },
  {
   "cell_type": "code",
   "execution_count": null,
   "metadata": {
    "colab": {
     "base_uri": "https://localhost:8080/"
    },
    "id": "F9PSDexjCtiS",
    "outputId": "d06e6901-8168-4835-a998-ee1d43bb65d2"
   },
   "outputs": [
    {
     "name": "stdout",
     "output_type": "stream",
     "text": [
      "[[1 0 0]\n",
      " [1 0 0]\n",
      " [1 0 0]\n",
      " [1 0 0]\n",
      " [1 0 0]\n",
      " [1 0 0]\n",
      " [1 0 0]\n",
      " [1 0 0]\n",
      " [1 0 0]\n",
      " [1 0 0]]\n"
     ]
    }
   ],
   "source": [
    "print(y[0:10])"
   ]
  },
  {
   "cell_type": "markdown",
   "metadata": {
    "id": "qDC7hxqECtiS"
   },
   "source": [
    "Usually, the program considers the column with the highest prediction to be the prediction of the neural network.  It is easy to convert the predictions to the expected iris species.  The argmax function finds the index of the maximum prediction for each row."
   ]
  },
  {
   "cell_type": "code",
   "execution_count": null,
   "metadata": {
    "colab": {
     "base_uri": "https://localhost:8080/"
    },
    "id": "367mbx_PCtiT",
    "outputId": "bf69a471-4080-4628-ebc5-9571d408881d"
   },
   "outputs": [
    {
     "name": "stdout",
     "output_type": "stream",
     "text": [
      "Predictions: [0 0 0 0 0 0 0 0 0 0 0 0 0 0 0 0 0 0 0 0 0 0 0 0 0 0 0 0 0 0 0 0 0 0 0 0 0\n",
      " 0 0 0 0 0 0 0 0 0 0 0 0 0 1 1 1 1 1 1 1 1 1 1 1 1 1 1 1 1 1 1 1 1 2 1 2 1\n",
      " 1 1 1 1 1 1 1 1 1 2 1 1 1 1 1 1 1 1 1 1 1 1 1 1 1 1 2 2 2 2 2 2 2 2 2 2 2\n",
      " 2 2 2 2 2 2 2 2 2 2 2 2 2 2 2 2 2 2 2 2 2 2 2 2 2 2 2 2 2 2 2 2 2 2 2 2 2\n",
      " 2 2]\n",
      "Expected: [0 0 0 0 0 0 0 0 0 0 0 0 0 0 0 0 0 0 0 0 0 0 0 0 0 0 0 0 0 0 0 0 0 0 0 0 0\n",
      " 0 0 0 0 0 0 0 0 0 0 0 0 0 1 1 1 1 1 1 1 1 1 1 1 1 1 1 1 1 1 1 1 1 1 1 1 1\n",
      " 1 1 1 1 1 1 1 1 1 1 1 1 1 1 1 1 1 1 1 1 1 1 1 1 1 1 2 2 2 2 2 2 2 2 2 2 2\n",
      " 2 2 2 2 2 2 2 2 2 2 2 2 2 2 2 2 2 2 2 2 2 2 2 2 2 2 2 2 2 2 2 2 2 2 2 2 2\n",
      " 2 2]\n"
     ]
    }
   ],
   "source": [
    "predict_classes = np.argmax(pred,axis=1)\n",
    "expected_classes = np.argmax(y,axis=1)\n",
    "print(f\"Predictions: {predict_classes}\")\n",
    "print(f\"Expected: {expected_classes}\")"
   ]
  },
  {
   "cell_type": "markdown",
   "metadata": {
    "id": "lrcy0Q4xCtiT"
   },
   "source": [
    "Of course, it is straightforward to turn these indexes back into iris species. We use the species list that we created earlier."
   ]
  },
  {
   "cell_type": "code",
   "execution_count": null,
   "metadata": {
    "colab": {
     "base_uri": "https://localhost:8080/"
    },
    "id": "NTORTvygCtiT",
    "outputId": "a931a4d1-3204-42de-af37-a366ec2ba353"
   },
   "outputs": [
    {
     "name": "stdout",
     "output_type": "stream",
     "text": [
      "Index(['Iris-setosa', 'Iris-setosa', 'Iris-setosa', 'Iris-setosa',\n",
      "       'Iris-setosa', 'Iris-setosa', 'Iris-setosa', 'Iris-setosa',\n",
      "       'Iris-setosa'],\n",
      "      dtype='object')\n"
     ]
    }
   ],
   "source": [
    "print(species[predict_classes[1:10]])"
   ]
  },
  {
   "cell_type": "markdown",
   "metadata": {
    "id": "Ljez1ZRACtiT"
   },
   "source": [
    "Accuracy might be a more easily understood error metric.  It is essentially a test score.  For all of the iris predictions, what percent were correct?  The downside is it does not consider how confident the neural network was in each prediction."
   ]
  },
  {
   "cell_type": "code",
   "execution_count": null,
   "metadata": {
    "colab": {
     "base_uri": "https://localhost:8080/"
    },
    "id": "zth2S2OcCtiT",
    "outputId": "f68a373c-f84e-4d01-8e83-dc22199e76ff"
   },
   "outputs": [
    {
     "name": "stdout",
     "output_type": "stream",
     "text": [
      "Accuracy: 0.98\n"
     ]
    }
   ],
   "source": [
    "from sklearn.metrics import accuracy_score\n",
    "\n",
    "correct = accuracy_score(expected_classes,predict_classes)\n",
    "print(f\"Accuracy: {correct}\")"
   ]
  },
  {
   "cell_type": "markdown",
   "metadata": {
    "id": "jY07aiLICtiT"
   },
   "source": [
    "The code below performs two ad hoc predictions.  The first prediction is a single iris flower, and the second predicts two iris flowers.  Notice that the **argmax** in the second prediction requires **axis=1**?  Since we have a 2D array now, we must specify which axis to take the **argmax** over.  The value **axis=1** specifies we want the max column index for each row."
   ]
  },
  {
   "cell_type": "code",
   "execution_count": null,
   "metadata": {
    "colab": {
     "base_uri": "https://localhost:8080/"
    },
    "id": "FZUSWVGnCtiT",
    "outputId": "d98e7cc3-7e10-44f0-a5cb-b858f3c4c850"
   },
   "outputs": [
    {
     "name": "stdout",
     "output_type": "stream",
     "text": [
      "[[0.00343206 0.17186154 0.8247064 ]]\n",
      "Predict that [[5. 3. 4. 2.]] is: Iris-virginica\n"
     ]
    }
   ],
   "source": [
    "sample_flower = np.array( [[5.0,3.0,4.0,2.0]], dtype=float)\n",
    "pred = model.predict(sample_flower)\n",
    "print(pred)\n",
    "pred = np.argmax(pred)\n",
    "print(f\"Predict that {sample_flower} is: {species[pred]}\")"
   ]
  },
  {
   "cell_type": "markdown",
   "metadata": {
    "id": "ENSZaaRICtiT"
   },
   "source": [
    "You can also predict two sample flowers."
   ]
  },
  {
   "cell_type": "code",
   "execution_count": null,
   "metadata": {
    "colab": {
     "base_uri": "https://localhost:8080/"
    },
    "id": "fdSSkkmwCtiT",
    "outputId": "68d48b43-ea6b-4c5c-a226-9c19c0ae5060"
   },
   "outputs": [
    {
     "name": "stdout",
     "output_type": "stream",
     "text": [
      "[[0.00343206 0.17186162 0.8247064 ]\n",
      " [0.9854916  0.01445759 0.00005079]]\n",
      "Predict that these two flowers [[5.  3.  4.  2. ]\n",
      " [5.2 3.5 1.5 0.8]] \n",
      "are: Index(['Iris-virginica', 'Iris-setosa'], dtype='object')\n"
     ]
    }
   ],
   "source": [
    "sample_flower = np.array( [[5.0,3.0,4.0,2.0],[5.2,3.5,1.5,0.8]],\\\n",
    "        dtype=float)\n",
    "pred = model.predict(sample_flower)\n",
    "print(pred)\n",
    "pred = np.argmax(pred,axis=1)\n",
    "print(f\"Predict that these two flowers {sample_flower} \")\n",
    "print(f\"are: {species[pred]}\")"
   ]
  }
 ],
 "metadata": {
  "anaconda-cloud": {},
  "colab": {
   "collapsed_sections": [],
   "name": "Copy of Copy of t81_558_class_03_2_keras.ipynb",
   "provenance": []
  },
  "kernelspec": {
   "display_name": "Python 3.9 (tensorflow)",
   "language": "python",
   "name": "tensorflow"
  },
  "language_info": {
   "codemirror_mode": {
    "name": "ipython",
    "version": 3
   },
   "file_extension": ".py",
   "mimetype": "text/x-python",
   "name": "python",
   "nbconvert_exporter": "python",
   "pygments_lexer": "ipython3",
   "version": "3.9.13"
  }
 },
 "nbformat": 4,
 "nbformat_minor": 1
}
